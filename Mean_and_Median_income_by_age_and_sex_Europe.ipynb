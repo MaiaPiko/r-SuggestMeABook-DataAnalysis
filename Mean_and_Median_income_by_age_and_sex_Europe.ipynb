{
  "nbformat": 4,
  "nbformat_minor": 0,
  "metadata": {
    "colab": {
      "provenance": [],
      "authorship_tag": "ABX9TyObeED85Syh7bhzMD/7Afga",
      "include_colab_link": true
    },
    "kernelspec": {
      "name": "python3",
      "display_name": "Python 3"
    },
    "language_info": {
      "name": "python"
    }
  },
  "cells": [
    {
      "cell_type": "markdown",
      "metadata": {
        "id": "view-in-github",
        "colab_type": "text"
      },
      "source": [
        "<a href=\"https://colab.research.google.com/github/MaiaPiko/MaiaPiko/blob/main/Mean_and_Median_income_by_age_and_sex_Europe.ipynb\" target=\"_parent\"><img src=\"https://colab.research.google.com/assets/colab-badge.svg\" alt=\"Open In Colab\"/></a>"
      ]
    },
    {
      "cell_type": "code",
      "execution_count": 2,
      "metadata": {
        "id": "AvaNuAuZcmLS"
      },
      "outputs": [],
      "source": [
        "import pandas as pd\n",
        "import matplotlib.pyplot as plt\n",
        "import seaborn as sns\n",
        "import plotly.express as px\n",
        "import numpy as np\n",
        "\n"
      ]
    },
    {
      "cell_type": "markdown",
      "source": [
        "**Dataset:**\n",
        "Mean and median income by age and sex. source : Eurostat; Eurostat is the statistical office of the European Union. https://ec.europa.eu/eurostat/data/database - filename = ilc_di03.tsv"
      ],
      "metadata": {
        "id": "K7A5iOKmc9tX"
      }
    },
    {
      "cell_type": "markdown",
      "source": [
        "*About* the dataset:\n",
        "\n",
        "The dataset provides information on mean and median income by age and sex for European countries based on the European Union Statistics on Income and Living Conditions (EU-SILC) and European Community Household Panel (ECHP) surveys.\n",
        "\n",
        "The data is organized by age group, sex, income indicator, unit (euros or national currency), and country (geo\\time). The years of the data range from 1995 to 2022, with some years missing for certain countries. The data for each country is represented in rows and each year's data is represented in columns.\n",
        "\n",
        "This data can be used to analyze income inequality and to compare income levels across countries and over time. It may be of interest to researchers, policymakers, and anyone interested in economic and social trends in Europe."
      ],
      "metadata": {
        "id": "3WsSuYV7cz2z"
      }
    },
    {
      "cell_type": "markdown",
      "source": [
        "\n",
        "\n",
        "AGE = age class\n",
        "\n",
        "sex = gender/sex\n",
        "\n",
        "indic_il = Income and living conditions indicator: refers to the type of income being measured. Specifically, this dataset provides information on mean and median income by age and sex, based on the \"disposable income\" indicator.\n",
        "\n",
        "unit - Unit of measure\n",
        "\n",
        "geo = Geo Entity Reporting\n",
        "\n",
        "time = year"
      ],
      "metadata": {
        "id": "h3U9-0zAhlDg"
      }
    },
    {
      "cell_type": "code",
      "source": [],
      "metadata": {
        "id": "VxD5GdEiLGPB"
      },
      "execution_count": 2,
      "outputs": []
    },
    {
      "cell_type": "code",
      "source": [
        "mmi = pd.read_csv('ilc_di03.tsv', delimiter='\\t')\n",
        "# Eurosat Median and mean icome by age."
      ],
      "metadata": {
        "id": "yn0fOSXMRbTl"
      },
      "execution_count": 3,
      "outputs": []
    },
    {
      "cell_type": "code",
      "source": [
        "mmi.describe()"
      ],
      "metadata": {
        "colab": {
          "base_uri": "https://localhost:8080/",
          "height": 204
        },
        "id": "dgydpdNssLSp",
        "outputId": "9397acbf-7c7b-4430-9e6f-57b9a9ac5576"
      },
      "execution_count": 4,
      "outputs": [
        {
          "output_type": "execute_result",
          "data": {
            "text/plain": [
              "       age,sex,indic_il,unit,geo\\time  2022   2021   2020   2019   2018   \\\n",
              "count                           17382  17382  17382  17382  17382  17382   \n",
              "unique                          17382    881   8090  10171  10391  11127   \n",
              "top              TOTAL,F,MED_E,EUR,AL     :      :      :      :      :    \n",
              "freq                                1  16194   5502   2862   2070    882   \n",
              "\n",
              "        2017   2016   2015   2014   ...  2005   2004   2003   2001   2000   \\\n",
              "count   17382  17382  17382  17382  ...  17382  17382  17382  17382  17382   \n",
              "unique  10626  10388  10210  10365  ...   8000   4137   1980   2361   2451   \n",
              "top        :      :      :      :   ...     :      :      :      :      :    \n",
              "freq     2202   2598   2598   2598  ...   6294  11442  14610  13692  13692   \n",
              "\n",
              "        1999   1998   1997   1996   1995   \n",
              "count   17382  17382  17382  17382  17382  \n",
              "unique   3149   3188   3209   3252   3016  \n",
              "top        :      :      :      :      :   \n",
              "freq    13692  13692  13692  13692  13962  \n",
              "\n",
              "[4 rows x 28 columns]"
            ],
            "text/html": [
              "\n",
              "  <div id=\"df-7f4d8c87-b930-4f50-8964-53fd1b17f2b7\">\n",
              "    <div class=\"colab-df-container\">\n",
              "      <div>\n",
              "<style scoped>\n",
              "    .dataframe tbody tr th:only-of-type {\n",
              "        vertical-align: middle;\n",
              "    }\n",
              "\n",
              "    .dataframe tbody tr th {\n",
              "        vertical-align: top;\n",
              "    }\n",
              "\n",
              "    .dataframe thead th {\n",
              "        text-align: right;\n",
              "    }\n",
              "</style>\n",
              "<table border=\"1\" class=\"dataframe\">\n",
              "  <thead>\n",
              "    <tr style=\"text-align: right;\">\n",
              "      <th></th>\n",
              "      <th>age,sex,indic_il,unit,geo\\time</th>\n",
              "      <th>2022</th>\n",
              "      <th>2021</th>\n",
              "      <th>2020</th>\n",
              "      <th>2019</th>\n",
              "      <th>2018</th>\n",
              "      <th>2017</th>\n",
              "      <th>2016</th>\n",
              "      <th>2015</th>\n",
              "      <th>2014</th>\n",
              "      <th>...</th>\n",
              "      <th>2005</th>\n",
              "      <th>2004</th>\n",
              "      <th>2003</th>\n",
              "      <th>2001</th>\n",
              "      <th>2000</th>\n",
              "      <th>1999</th>\n",
              "      <th>1998</th>\n",
              "      <th>1997</th>\n",
              "      <th>1996</th>\n",
              "      <th>1995</th>\n",
              "    </tr>\n",
              "  </thead>\n",
              "  <tbody>\n",
              "    <tr>\n",
              "      <th>count</th>\n",
              "      <td>17382</td>\n",
              "      <td>17382</td>\n",
              "      <td>17382</td>\n",
              "      <td>17382</td>\n",
              "      <td>17382</td>\n",
              "      <td>17382</td>\n",
              "      <td>17382</td>\n",
              "      <td>17382</td>\n",
              "      <td>17382</td>\n",
              "      <td>17382</td>\n",
              "      <td>...</td>\n",
              "      <td>17382</td>\n",
              "      <td>17382</td>\n",
              "      <td>17382</td>\n",
              "      <td>17382</td>\n",
              "      <td>17382</td>\n",
              "      <td>17382</td>\n",
              "      <td>17382</td>\n",
              "      <td>17382</td>\n",
              "      <td>17382</td>\n",
              "      <td>17382</td>\n",
              "    </tr>\n",
              "    <tr>\n",
              "      <th>unique</th>\n",
              "      <td>17382</td>\n",
              "      <td>881</td>\n",
              "      <td>8090</td>\n",
              "      <td>10171</td>\n",
              "      <td>10391</td>\n",
              "      <td>11127</td>\n",
              "      <td>10626</td>\n",
              "      <td>10388</td>\n",
              "      <td>10210</td>\n",
              "      <td>10365</td>\n",
              "      <td>...</td>\n",
              "      <td>8000</td>\n",
              "      <td>4137</td>\n",
              "      <td>1980</td>\n",
              "      <td>2361</td>\n",
              "      <td>2451</td>\n",
              "      <td>3149</td>\n",
              "      <td>3188</td>\n",
              "      <td>3209</td>\n",
              "      <td>3252</td>\n",
              "      <td>3016</td>\n",
              "    </tr>\n",
              "    <tr>\n",
              "      <th>top</th>\n",
              "      <td>TOTAL,F,MED_E,EUR,AL</td>\n",
              "      <td>:</td>\n",
              "      <td>:</td>\n",
              "      <td>:</td>\n",
              "      <td>:</td>\n",
              "      <td>:</td>\n",
              "      <td>:</td>\n",
              "      <td>:</td>\n",
              "      <td>:</td>\n",
              "      <td>:</td>\n",
              "      <td>...</td>\n",
              "      <td>:</td>\n",
              "      <td>:</td>\n",
              "      <td>:</td>\n",
              "      <td>:</td>\n",
              "      <td>:</td>\n",
              "      <td>:</td>\n",
              "      <td>:</td>\n",
              "      <td>:</td>\n",
              "      <td>:</td>\n",
              "      <td>:</td>\n",
              "    </tr>\n",
              "    <tr>\n",
              "      <th>freq</th>\n",
              "      <td>1</td>\n",
              "      <td>16194</td>\n",
              "      <td>5502</td>\n",
              "      <td>2862</td>\n",
              "      <td>2070</td>\n",
              "      <td>882</td>\n",
              "      <td>2202</td>\n",
              "      <td>2598</td>\n",
              "      <td>2598</td>\n",
              "      <td>2598</td>\n",
              "      <td>...</td>\n",
              "      <td>6294</td>\n",
              "      <td>11442</td>\n",
              "      <td>14610</td>\n",
              "      <td>13692</td>\n",
              "      <td>13692</td>\n",
              "      <td>13692</td>\n",
              "      <td>13692</td>\n",
              "      <td>13692</td>\n",
              "      <td>13692</td>\n",
              "      <td>13962</td>\n",
              "    </tr>\n",
              "  </tbody>\n",
              "</table>\n",
              "<p>4 rows × 28 columns</p>\n",
              "</div>\n",
              "      <button class=\"colab-df-convert\" onclick=\"convertToInteractive('df-7f4d8c87-b930-4f50-8964-53fd1b17f2b7')\"\n",
              "              title=\"Convert this dataframe to an interactive table.\"\n",
              "              style=\"display:none;\">\n",
              "        \n",
              "  <svg xmlns=\"http://www.w3.org/2000/svg\" height=\"24px\"viewBox=\"0 0 24 24\"\n",
              "       width=\"24px\">\n",
              "    <path d=\"M0 0h24v24H0V0z\" fill=\"none\"/>\n",
              "    <path d=\"M18.56 5.44l.94 2.06.94-2.06 2.06-.94-2.06-.94-.94-2.06-.94 2.06-2.06.94zm-11 1L8.5 8.5l.94-2.06 2.06-.94-2.06-.94L8.5 2.5l-.94 2.06-2.06.94zm10 10l.94 2.06.94-2.06 2.06-.94-2.06-.94-.94-2.06-.94 2.06-2.06.94z\"/><path d=\"M17.41 7.96l-1.37-1.37c-.4-.4-.92-.59-1.43-.59-.52 0-1.04.2-1.43.59L10.3 9.45l-7.72 7.72c-.78.78-.78 2.05 0 2.83L4 21.41c.39.39.9.59 1.41.59.51 0 1.02-.2 1.41-.59l7.78-7.78 2.81-2.81c.8-.78.8-2.07 0-2.86zM5.41 20L4 18.59l7.72-7.72 1.47 1.35L5.41 20z\"/>\n",
              "  </svg>\n",
              "      </button>\n",
              "      \n",
              "  <style>\n",
              "    .colab-df-container {\n",
              "      display:flex;\n",
              "      flex-wrap:wrap;\n",
              "      gap: 12px;\n",
              "    }\n",
              "\n",
              "    .colab-df-convert {\n",
              "      background-color: #E8F0FE;\n",
              "      border: none;\n",
              "      border-radius: 50%;\n",
              "      cursor: pointer;\n",
              "      display: none;\n",
              "      fill: #1967D2;\n",
              "      height: 32px;\n",
              "      padding: 0 0 0 0;\n",
              "      width: 32px;\n",
              "    }\n",
              "\n",
              "    .colab-df-convert:hover {\n",
              "      background-color: #E2EBFA;\n",
              "      box-shadow: 0px 1px 2px rgba(60, 64, 67, 0.3), 0px 1px 3px 1px rgba(60, 64, 67, 0.15);\n",
              "      fill: #174EA6;\n",
              "    }\n",
              "\n",
              "    [theme=dark] .colab-df-convert {\n",
              "      background-color: #3B4455;\n",
              "      fill: #D2E3FC;\n",
              "    }\n",
              "\n",
              "    [theme=dark] .colab-df-convert:hover {\n",
              "      background-color: #434B5C;\n",
              "      box-shadow: 0px 1px 3px 1px rgba(0, 0, 0, 0.15);\n",
              "      filter: drop-shadow(0px 1px 2px rgba(0, 0, 0, 0.3));\n",
              "      fill: #FFFFFF;\n",
              "    }\n",
              "  </style>\n",
              "\n",
              "      <script>\n",
              "        const buttonEl =\n",
              "          document.querySelector('#df-7f4d8c87-b930-4f50-8964-53fd1b17f2b7 button.colab-df-convert');\n",
              "        buttonEl.style.display =\n",
              "          google.colab.kernel.accessAllowed ? 'block' : 'none';\n",
              "\n",
              "        async function convertToInteractive(key) {\n",
              "          const element = document.querySelector('#df-7f4d8c87-b930-4f50-8964-53fd1b17f2b7');\n",
              "          const dataTable =\n",
              "            await google.colab.kernel.invokeFunction('convertToInteractive',\n",
              "                                                     [key], {});\n",
              "          if (!dataTable) return;\n",
              "\n",
              "          const docLinkHtml = 'Like what you see? Visit the ' +\n",
              "            '<a target=\"_blank\" href=https://colab.research.google.com/notebooks/data_table.ipynb>data table notebook</a>'\n",
              "            + ' to learn more about interactive tables.';\n",
              "          element.innerHTML = '';\n",
              "          dataTable['output_type'] = 'display_data';\n",
              "          await google.colab.output.renderOutput(dataTable, element);\n",
              "          const docLink = document.createElement('div');\n",
              "          docLink.innerHTML = docLinkHtml;\n",
              "          element.appendChild(docLink);\n",
              "        }\n",
              "      </script>\n",
              "    </div>\n",
              "  </div>\n",
              "  "
            ]
          },
          "metadata": {},
          "execution_count": 4
        }
      ]
    },
    {
      "cell_type": "code",
      "source": [
        "mmi.head()"
      ],
      "metadata": {
        "colab": {
          "base_uri": "https://localhost:8080/",
          "height": 236
        },
        "id": "iiJ4g8YxMZGK",
        "outputId": "9754d422-529c-4ce4-92a1-3df3e93c8c06"
      },
      "execution_count": 5,
      "outputs": [
        {
          "output_type": "execute_result",
          "data": {
            "text/plain": [
              "  age,sex,indic_il,unit,geo\\time   2022    2021    2020     2019    2018   \\\n",
              "0           TOTAL,F,MED_E,EUR,AL      :       :    2482     2195    1972    \n",
              "1           TOTAL,F,MED_E,EUR,AT      :   27048   26348    25241   24675    \n",
              "2           TOTAL,F,MED_E,EUR,BE  26826   25356   25135   24013 b  23135    \n",
              "3           TOTAL,F,MED_E,EUR,BG   5117    5012    4424     4059    3474    \n",
              "4           TOTAL,F,MED_E,EUR,CH      :   43909   41911    40146   42253    \n",
              "\n",
              "    2017    2016    2015     2014   ...   2005    2004     2003    2001   \\\n",
              "0   1747       :       :        :   ...      :       :        :       :    \n",
              "1  24433   23202   22741    22712   ...  17402   16603   15275 b  14667    \n",
              "2  21976   21550   21012    21189   ...  16081   15353   14994 b  15081    \n",
              "3   3480   3043 b   3236     3260   ...      :       :        :       :    \n",
              "4  42640   43091   38361   37278 b  ...      :       :        :       :    \n",
              "\n",
              "    2000    1999    1998    1997    1996    1995   \n",
              "0      :       :       :       :       :       :   \n",
              "1  14535   13888   13677   13841   14277   13394   \n",
              "2  14378   13885   13669   13707   13735   13085   \n",
              "3      :       :       :       :       :       :   \n",
              "4      :       :       :       :       :       :   \n",
              "\n",
              "[5 rows x 28 columns]"
            ],
            "text/html": [
              "\n",
              "  <div id=\"df-b69aa2c6-6987-4a21-af80-2a62c6199202\">\n",
              "    <div class=\"colab-df-container\">\n",
              "      <div>\n",
              "<style scoped>\n",
              "    .dataframe tbody tr th:only-of-type {\n",
              "        vertical-align: middle;\n",
              "    }\n",
              "\n",
              "    .dataframe tbody tr th {\n",
              "        vertical-align: top;\n",
              "    }\n",
              "\n",
              "    .dataframe thead th {\n",
              "        text-align: right;\n",
              "    }\n",
              "</style>\n",
              "<table border=\"1\" class=\"dataframe\">\n",
              "  <thead>\n",
              "    <tr style=\"text-align: right;\">\n",
              "      <th></th>\n",
              "      <th>age,sex,indic_il,unit,geo\\time</th>\n",
              "      <th>2022</th>\n",
              "      <th>2021</th>\n",
              "      <th>2020</th>\n",
              "      <th>2019</th>\n",
              "      <th>2018</th>\n",
              "      <th>2017</th>\n",
              "      <th>2016</th>\n",
              "      <th>2015</th>\n",
              "      <th>2014</th>\n",
              "      <th>...</th>\n",
              "      <th>2005</th>\n",
              "      <th>2004</th>\n",
              "      <th>2003</th>\n",
              "      <th>2001</th>\n",
              "      <th>2000</th>\n",
              "      <th>1999</th>\n",
              "      <th>1998</th>\n",
              "      <th>1997</th>\n",
              "      <th>1996</th>\n",
              "      <th>1995</th>\n",
              "    </tr>\n",
              "  </thead>\n",
              "  <tbody>\n",
              "    <tr>\n",
              "      <th>0</th>\n",
              "      <td>TOTAL,F,MED_E,EUR,AL</td>\n",
              "      <td>:</td>\n",
              "      <td>:</td>\n",
              "      <td>2482</td>\n",
              "      <td>2195</td>\n",
              "      <td>1972</td>\n",
              "      <td>1747</td>\n",
              "      <td>:</td>\n",
              "      <td>:</td>\n",
              "      <td>:</td>\n",
              "      <td>...</td>\n",
              "      <td>:</td>\n",
              "      <td>:</td>\n",
              "      <td>:</td>\n",
              "      <td>:</td>\n",
              "      <td>:</td>\n",
              "      <td>:</td>\n",
              "      <td>:</td>\n",
              "      <td>:</td>\n",
              "      <td>:</td>\n",
              "      <td>:</td>\n",
              "    </tr>\n",
              "    <tr>\n",
              "      <th>1</th>\n",
              "      <td>TOTAL,F,MED_E,EUR,AT</td>\n",
              "      <td>:</td>\n",
              "      <td>27048</td>\n",
              "      <td>26348</td>\n",
              "      <td>25241</td>\n",
              "      <td>24675</td>\n",
              "      <td>24433</td>\n",
              "      <td>23202</td>\n",
              "      <td>22741</td>\n",
              "      <td>22712</td>\n",
              "      <td>...</td>\n",
              "      <td>17402</td>\n",
              "      <td>16603</td>\n",
              "      <td>15275 b</td>\n",
              "      <td>14667</td>\n",
              "      <td>14535</td>\n",
              "      <td>13888</td>\n",
              "      <td>13677</td>\n",
              "      <td>13841</td>\n",
              "      <td>14277</td>\n",
              "      <td>13394</td>\n",
              "    </tr>\n",
              "    <tr>\n",
              "      <th>2</th>\n",
              "      <td>TOTAL,F,MED_E,EUR,BE</td>\n",
              "      <td>26826</td>\n",
              "      <td>25356</td>\n",
              "      <td>25135</td>\n",
              "      <td>24013 b</td>\n",
              "      <td>23135</td>\n",
              "      <td>21976</td>\n",
              "      <td>21550</td>\n",
              "      <td>21012</td>\n",
              "      <td>21189</td>\n",
              "      <td>...</td>\n",
              "      <td>16081</td>\n",
              "      <td>15353</td>\n",
              "      <td>14994 b</td>\n",
              "      <td>15081</td>\n",
              "      <td>14378</td>\n",
              "      <td>13885</td>\n",
              "      <td>13669</td>\n",
              "      <td>13707</td>\n",
              "      <td>13735</td>\n",
              "      <td>13085</td>\n",
              "    </tr>\n",
              "    <tr>\n",
              "      <th>3</th>\n",
              "      <td>TOTAL,F,MED_E,EUR,BG</td>\n",
              "      <td>5117</td>\n",
              "      <td>5012</td>\n",
              "      <td>4424</td>\n",
              "      <td>4059</td>\n",
              "      <td>3474</td>\n",
              "      <td>3480</td>\n",
              "      <td>3043 b</td>\n",
              "      <td>3236</td>\n",
              "      <td>3260</td>\n",
              "      <td>...</td>\n",
              "      <td>:</td>\n",
              "      <td>:</td>\n",
              "      <td>:</td>\n",
              "      <td>:</td>\n",
              "      <td>:</td>\n",
              "      <td>:</td>\n",
              "      <td>:</td>\n",
              "      <td>:</td>\n",
              "      <td>:</td>\n",
              "      <td>:</td>\n",
              "    </tr>\n",
              "    <tr>\n",
              "      <th>4</th>\n",
              "      <td>TOTAL,F,MED_E,EUR,CH</td>\n",
              "      <td>:</td>\n",
              "      <td>43909</td>\n",
              "      <td>41911</td>\n",
              "      <td>40146</td>\n",
              "      <td>42253</td>\n",
              "      <td>42640</td>\n",
              "      <td>43091</td>\n",
              "      <td>38361</td>\n",
              "      <td>37278 b</td>\n",
              "      <td>...</td>\n",
              "      <td>:</td>\n",
              "      <td>:</td>\n",
              "      <td>:</td>\n",
              "      <td>:</td>\n",
              "      <td>:</td>\n",
              "      <td>:</td>\n",
              "      <td>:</td>\n",
              "      <td>:</td>\n",
              "      <td>:</td>\n",
              "      <td>:</td>\n",
              "    </tr>\n",
              "  </tbody>\n",
              "</table>\n",
              "<p>5 rows × 28 columns</p>\n",
              "</div>\n",
              "      <button class=\"colab-df-convert\" onclick=\"convertToInteractive('df-b69aa2c6-6987-4a21-af80-2a62c6199202')\"\n",
              "              title=\"Convert this dataframe to an interactive table.\"\n",
              "              style=\"display:none;\">\n",
              "        \n",
              "  <svg xmlns=\"http://www.w3.org/2000/svg\" height=\"24px\"viewBox=\"0 0 24 24\"\n",
              "       width=\"24px\">\n",
              "    <path d=\"M0 0h24v24H0V0z\" fill=\"none\"/>\n",
              "    <path d=\"M18.56 5.44l.94 2.06.94-2.06 2.06-.94-2.06-.94-.94-2.06-.94 2.06-2.06.94zm-11 1L8.5 8.5l.94-2.06 2.06-.94-2.06-.94L8.5 2.5l-.94 2.06-2.06.94zm10 10l.94 2.06.94-2.06 2.06-.94-2.06-.94-.94-2.06-.94 2.06-2.06.94z\"/><path d=\"M17.41 7.96l-1.37-1.37c-.4-.4-.92-.59-1.43-.59-.52 0-1.04.2-1.43.59L10.3 9.45l-7.72 7.72c-.78.78-.78 2.05 0 2.83L4 21.41c.39.39.9.59 1.41.59.51 0 1.02-.2 1.41-.59l7.78-7.78 2.81-2.81c.8-.78.8-2.07 0-2.86zM5.41 20L4 18.59l7.72-7.72 1.47 1.35L5.41 20z\"/>\n",
              "  </svg>\n",
              "      </button>\n",
              "      \n",
              "  <style>\n",
              "    .colab-df-container {\n",
              "      display:flex;\n",
              "      flex-wrap:wrap;\n",
              "      gap: 12px;\n",
              "    }\n",
              "\n",
              "    .colab-df-convert {\n",
              "      background-color: #E8F0FE;\n",
              "      border: none;\n",
              "      border-radius: 50%;\n",
              "      cursor: pointer;\n",
              "      display: none;\n",
              "      fill: #1967D2;\n",
              "      height: 32px;\n",
              "      padding: 0 0 0 0;\n",
              "      width: 32px;\n",
              "    }\n",
              "\n",
              "    .colab-df-convert:hover {\n",
              "      background-color: #E2EBFA;\n",
              "      box-shadow: 0px 1px 2px rgba(60, 64, 67, 0.3), 0px 1px 3px 1px rgba(60, 64, 67, 0.15);\n",
              "      fill: #174EA6;\n",
              "    }\n",
              "\n",
              "    [theme=dark] .colab-df-convert {\n",
              "      background-color: #3B4455;\n",
              "      fill: #D2E3FC;\n",
              "    }\n",
              "\n",
              "    [theme=dark] .colab-df-convert:hover {\n",
              "      background-color: #434B5C;\n",
              "      box-shadow: 0px 1px 3px 1px rgba(0, 0, 0, 0.15);\n",
              "      filter: drop-shadow(0px 1px 2px rgba(0, 0, 0, 0.3));\n",
              "      fill: #FFFFFF;\n",
              "    }\n",
              "  </style>\n",
              "\n",
              "      <script>\n",
              "        const buttonEl =\n",
              "          document.querySelector('#df-b69aa2c6-6987-4a21-af80-2a62c6199202 button.colab-df-convert');\n",
              "        buttonEl.style.display =\n",
              "          google.colab.kernel.accessAllowed ? 'block' : 'none';\n",
              "\n",
              "        async function convertToInteractive(key) {\n",
              "          const element = document.querySelector('#df-b69aa2c6-6987-4a21-af80-2a62c6199202');\n",
              "          const dataTable =\n",
              "            await google.colab.kernel.invokeFunction('convertToInteractive',\n",
              "                                                     [key], {});\n",
              "          if (!dataTable) return;\n",
              "\n",
              "          const docLinkHtml = 'Like what you see? Visit the ' +\n",
              "            '<a target=\"_blank\" href=https://colab.research.google.com/notebooks/data_table.ipynb>data table notebook</a>'\n",
              "            + ' to learn more about interactive tables.';\n",
              "          element.innerHTML = '';\n",
              "          dataTable['output_type'] = 'display_data';\n",
              "          await google.colab.output.renderOutput(dataTable, element);\n",
              "          const docLink = document.createElement('div');\n",
              "          docLink.innerHTML = docLinkHtml;\n",
              "          element.appendChild(docLink);\n",
              "        }\n",
              "      </script>\n",
              "    </div>\n",
              "  </div>\n",
              "  "
            ]
          },
          "metadata": {},
          "execution_count": 5
        }
      ]
    },
    {
      "cell_type": "code",
      "source": [
        "mmi.tail()"
      ],
      "metadata": {
        "colab": {
          "base_uri": "https://localhost:8080/",
          "height": 236
        },
        "id": "3PTkFsHXjhsF",
        "outputId": "5194245e-e7fd-41f4-eebf-a0e90af80d09"
      },
      "execution_count": 6,
      "outputs": [
        {
          "output_type": "execute_result",
          "data": {
            "text/plain": [
              "      age,sex,indic_il,unit,geo\\time 2022    2021    2020    2019    2018   \\\n",
              "17377          Y_LT75,T,MEI_E,PPS,SI    :   19109   18422   18252   17005    \n",
              "17378          Y_LT75,T,MEI_E,PPS,SK    :       :   10509   11121   10342    \n",
              "17379          Y_LT75,T,MEI_E,PPS,TR    :       :    9225    9244    9112    \n",
              "17380          Y_LT75,T,MEI_E,PPS,UK    :       :       :       :   22439    \n",
              "17381          Y_LT75,T,MEI_E,PPS,XK    :       :       :       :    5060    \n",
              "\n",
              "         2017    2016    2015    2014   ...    2005  2004  2003    2001   \\\n",
              "17377   16445   16491   16327   15563   ...   12673     :     :       :    \n",
              "17378   10092   11194   10824   10872   ...    4440     :     :       :    \n",
              "17379    9217    9056    7810    7399   ...       :     :     :       :    \n",
              "17380  22081 b  20494   21555   20228   ...  20965 b    :     :   17720    \n",
              "17381       :       :       :       :   ...       :     :     :       :    \n",
              "\n",
              "        2000    1999    1998    1997    1996    1995   \n",
              "17377      :       :       :       :       :       :   \n",
              "17378      :       :       :       :       :       :   \n",
              "17379      :       :       :       :       :       :   \n",
              "17380  16358   15111   15433   14560   13927   13629   \n",
              "17381      :       :       :       :       :       :   \n",
              "\n",
              "[5 rows x 28 columns]"
            ],
            "text/html": [
              "\n",
              "  <div id=\"df-c74d824c-7c15-407a-8ff3-b27f8422c2c0\">\n",
              "    <div class=\"colab-df-container\">\n",
              "      <div>\n",
              "<style scoped>\n",
              "    .dataframe tbody tr th:only-of-type {\n",
              "        vertical-align: middle;\n",
              "    }\n",
              "\n",
              "    .dataframe tbody tr th {\n",
              "        vertical-align: top;\n",
              "    }\n",
              "\n",
              "    .dataframe thead th {\n",
              "        text-align: right;\n",
              "    }\n",
              "</style>\n",
              "<table border=\"1\" class=\"dataframe\">\n",
              "  <thead>\n",
              "    <tr style=\"text-align: right;\">\n",
              "      <th></th>\n",
              "      <th>age,sex,indic_il,unit,geo\\time</th>\n",
              "      <th>2022</th>\n",
              "      <th>2021</th>\n",
              "      <th>2020</th>\n",
              "      <th>2019</th>\n",
              "      <th>2018</th>\n",
              "      <th>2017</th>\n",
              "      <th>2016</th>\n",
              "      <th>2015</th>\n",
              "      <th>2014</th>\n",
              "      <th>...</th>\n",
              "      <th>2005</th>\n",
              "      <th>2004</th>\n",
              "      <th>2003</th>\n",
              "      <th>2001</th>\n",
              "      <th>2000</th>\n",
              "      <th>1999</th>\n",
              "      <th>1998</th>\n",
              "      <th>1997</th>\n",
              "      <th>1996</th>\n",
              "      <th>1995</th>\n",
              "    </tr>\n",
              "  </thead>\n",
              "  <tbody>\n",
              "    <tr>\n",
              "      <th>17377</th>\n",
              "      <td>Y_LT75,T,MEI_E,PPS,SI</td>\n",
              "      <td>:</td>\n",
              "      <td>19109</td>\n",
              "      <td>18422</td>\n",
              "      <td>18252</td>\n",
              "      <td>17005</td>\n",
              "      <td>16445</td>\n",
              "      <td>16491</td>\n",
              "      <td>16327</td>\n",
              "      <td>15563</td>\n",
              "      <td>...</td>\n",
              "      <td>12673</td>\n",
              "      <td>:</td>\n",
              "      <td>:</td>\n",
              "      <td>:</td>\n",
              "      <td>:</td>\n",
              "      <td>:</td>\n",
              "      <td>:</td>\n",
              "      <td>:</td>\n",
              "      <td>:</td>\n",
              "      <td>:</td>\n",
              "    </tr>\n",
              "    <tr>\n",
              "      <th>17378</th>\n",
              "      <td>Y_LT75,T,MEI_E,PPS,SK</td>\n",
              "      <td>:</td>\n",
              "      <td>:</td>\n",
              "      <td>10509</td>\n",
              "      <td>11121</td>\n",
              "      <td>10342</td>\n",
              "      <td>10092</td>\n",
              "      <td>11194</td>\n",
              "      <td>10824</td>\n",
              "      <td>10872</td>\n",
              "      <td>...</td>\n",
              "      <td>4440</td>\n",
              "      <td>:</td>\n",
              "      <td>:</td>\n",
              "      <td>:</td>\n",
              "      <td>:</td>\n",
              "      <td>:</td>\n",
              "      <td>:</td>\n",
              "      <td>:</td>\n",
              "      <td>:</td>\n",
              "      <td>:</td>\n",
              "    </tr>\n",
              "    <tr>\n",
              "      <th>17379</th>\n",
              "      <td>Y_LT75,T,MEI_E,PPS,TR</td>\n",
              "      <td>:</td>\n",
              "      <td>:</td>\n",
              "      <td>9225</td>\n",
              "      <td>9244</td>\n",
              "      <td>9112</td>\n",
              "      <td>9217</td>\n",
              "      <td>9056</td>\n",
              "      <td>7810</td>\n",
              "      <td>7399</td>\n",
              "      <td>...</td>\n",
              "      <td>:</td>\n",
              "      <td>:</td>\n",
              "      <td>:</td>\n",
              "      <td>:</td>\n",
              "      <td>:</td>\n",
              "      <td>:</td>\n",
              "      <td>:</td>\n",
              "      <td>:</td>\n",
              "      <td>:</td>\n",
              "      <td>:</td>\n",
              "    </tr>\n",
              "    <tr>\n",
              "      <th>17380</th>\n",
              "      <td>Y_LT75,T,MEI_E,PPS,UK</td>\n",
              "      <td>:</td>\n",
              "      <td>:</td>\n",
              "      <td>:</td>\n",
              "      <td>:</td>\n",
              "      <td>22439</td>\n",
              "      <td>22081 b</td>\n",
              "      <td>20494</td>\n",
              "      <td>21555</td>\n",
              "      <td>20228</td>\n",
              "      <td>...</td>\n",
              "      <td>20965 b</td>\n",
              "      <td>:</td>\n",
              "      <td>:</td>\n",
              "      <td>17720</td>\n",
              "      <td>16358</td>\n",
              "      <td>15111</td>\n",
              "      <td>15433</td>\n",
              "      <td>14560</td>\n",
              "      <td>13927</td>\n",
              "      <td>13629</td>\n",
              "    </tr>\n",
              "    <tr>\n",
              "      <th>17381</th>\n",
              "      <td>Y_LT75,T,MEI_E,PPS,XK</td>\n",
              "      <td>:</td>\n",
              "      <td>:</td>\n",
              "      <td>:</td>\n",
              "      <td>:</td>\n",
              "      <td>5060</td>\n",
              "      <td>:</td>\n",
              "      <td>:</td>\n",
              "      <td>:</td>\n",
              "      <td>:</td>\n",
              "      <td>...</td>\n",
              "      <td>:</td>\n",
              "      <td>:</td>\n",
              "      <td>:</td>\n",
              "      <td>:</td>\n",
              "      <td>:</td>\n",
              "      <td>:</td>\n",
              "      <td>:</td>\n",
              "      <td>:</td>\n",
              "      <td>:</td>\n",
              "      <td>:</td>\n",
              "    </tr>\n",
              "  </tbody>\n",
              "</table>\n",
              "<p>5 rows × 28 columns</p>\n",
              "</div>\n",
              "      <button class=\"colab-df-convert\" onclick=\"convertToInteractive('df-c74d824c-7c15-407a-8ff3-b27f8422c2c0')\"\n",
              "              title=\"Convert this dataframe to an interactive table.\"\n",
              "              style=\"display:none;\">\n",
              "        \n",
              "  <svg xmlns=\"http://www.w3.org/2000/svg\" height=\"24px\"viewBox=\"0 0 24 24\"\n",
              "       width=\"24px\">\n",
              "    <path d=\"M0 0h24v24H0V0z\" fill=\"none\"/>\n",
              "    <path d=\"M18.56 5.44l.94 2.06.94-2.06 2.06-.94-2.06-.94-.94-2.06-.94 2.06-2.06.94zm-11 1L8.5 8.5l.94-2.06 2.06-.94-2.06-.94L8.5 2.5l-.94 2.06-2.06.94zm10 10l.94 2.06.94-2.06 2.06-.94-2.06-.94-.94-2.06-.94 2.06-2.06.94z\"/><path d=\"M17.41 7.96l-1.37-1.37c-.4-.4-.92-.59-1.43-.59-.52 0-1.04.2-1.43.59L10.3 9.45l-7.72 7.72c-.78.78-.78 2.05 0 2.83L4 21.41c.39.39.9.59 1.41.59.51 0 1.02-.2 1.41-.59l7.78-7.78 2.81-2.81c.8-.78.8-2.07 0-2.86zM5.41 20L4 18.59l7.72-7.72 1.47 1.35L5.41 20z\"/>\n",
              "  </svg>\n",
              "      </button>\n",
              "      \n",
              "  <style>\n",
              "    .colab-df-container {\n",
              "      display:flex;\n",
              "      flex-wrap:wrap;\n",
              "      gap: 12px;\n",
              "    }\n",
              "\n",
              "    .colab-df-convert {\n",
              "      background-color: #E8F0FE;\n",
              "      border: none;\n",
              "      border-radius: 50%;\n",
              "      cursor: pointer;\n",
              "      display: none;\n",
              "      fill: #1967D2;\n",
              "      height: 32px;\n",
              "      padding: 0 0 0 0;\n",
              "      width: 32px;\n",
              "    }\n",
              "\n",
              "    .colab-df-convert:hover {\n",
              "      background-color: #E2EBFA;\n",
              "      box-shadow: 0px 1px 2px rgba(60, 64, 67, 0.3), 0px 1px 3px 1px rgba(60, 64, 67, 0.15);\n",
              "      fill: #174EA6;\n",
              "    }\n",
              "\n",
              "    [theme=dark] .colab-df-convert {\n",
              "      background-color: #3B4455;\n",
              "      fill: #D2E3FC;\n",
              "    }\n",
              "\n",
              "    [theme=dark] .colab-df-convert:hover {\n",
              "      background-color: #434B5C;\n",
              "      box-shadow: 0px 1px 3px 1px rgba(0, 0, 0, 0.15);\n",
              "      filter: drop-shadow(0px 1px 2px rgba(0, 0, 0, 0.3));\n",
              "      fill: #FFFFFF;\n",
              "    }\n",
              "  </style>\n",
              "\n",
              "      <script>\n",
              "        const buttonEl =\n",
              "          document.querySelector('#df-c74d824c-7c15-407a-8ff3-b27f8422c2c0 button.colab-df-convert');\n",
              "        buttonEl.style.display =\n",
              "          google.colab.kernel.accessAllowed ? 'block' : 'none';\n",
              "\n",
              "        async function convertToInteractive(key) {\n",
              "          const element = document.querySelector('#df-c74d824c-7c15-407a-8ff3-b27f8422c2c0');\n",
              "          const dataTable =\n",
              "            await google.colab.kernel.invokeFunction('convertToInteractive',\n",
              "                                                     [key], {});\n",
              "          if (!dataTable) return;\n",
              "\n",
              "          const docLinkHtml = 'Like what you see? Visit the ' +\n",
              "            '<a target=\"_blank\" href=https://colab.research.google.com/notebooks/data_table.ipynb>data table notebook</a>'\n",
              "            + ' to learn more about interactive tables.';\n",
              "          element.innerHTML = '';\n",
              "          dataTable['output_type'] = 'display_data';\n",
              "          await google.colab.output.renderOutput(dataTable, element);\n",
              "          const docLink = document.createElement('div');\n",
              "          docLink.innerHTML = docLinkHtml;\n",
              "          element.appendChild(docLink);\n",
              "        }\n",
              "      </script>\n",
              "    </div>\n",
              "  </div>\n",
              "  "
            ]
          },
          "metadata": {},
          "execution_count": 6
        }
      ]
    },
    {
      "cell_type": "code",
      "source": [
        "mmi['age,sex,indic_il,unit,geo\\\\time']"
      ],
      "metadata": {
        "colab": {
          "base_uri": "https://localhost:8080/"
        },
        "id": "muW0AvBkjwQ-",
        "outputId": "732ad4f2-5686-4e13-8f61-76ee092ff287"
      },
      "execution_count": 7,
      "outputs": [
        {
          "output_type": "execute_result",
          "data": {
            "text/plain": [
              "0         TOTAL,F,MED_E,EUR,AL\n",
              "1         TOTAL,F,MED_E,EUR,AT\n",
              "2         TOTAL,F,MED_E,EUR,BE\n",
              "3         TOTAL,F,MED_E,EUR,BG\n",
              "4         TOTAL,F,MED_E,EUR,CH\n",
              "                 ...          \n",
              "17377    Y_LT75,T,MEI_E,PPS,SI\n",
              "17378    Y_LT75,T,MEI_E,PPS,SK\n",
              "17379    Y_LT75,T,MEI_E,PPS,TR\n",
              "17380    Y_LT75,T,MEI_E,PPS,UK\n",
              "17381    Y_LT75,T,MEI_E,PPS,XK\n",
              "Name: age,sex,indic_il,unit,geo\\time, Length: 17382, dtype: object"
            ]
          },
          "metadata": {},
          "execution_count": 7
        }
      ]
    },
    {
      "cell_type": "markdown",
      "source": [
        "### Preparing the data:"
      ],
      "metadata": {
        "id": "DEHjnWnGbasQ"
      }
    },
    {
      "cell_type": "markdown",
      "source": [
        "After considering this Dataset I have decided that it would be much easier to work with it if I created a country column, that gets the country code from the 'age,sex,indic_il, unit, geo/time'."
      ],
      "metadata": {
        "id": "XmGdff-6cXbf"
      }
    },
    {
      "cell_type": "code",
      "source": [
        "#right now we have the below columns\n",
        "mmi.columns\n"
      ],
      "metadata": {
        "colab": {
          "base_uri": "https://localhost:8080/"
        },
        "id": "7pCTK5KsYdG3",
        "outputId": "5a26ef19-af75-4033-dc31-97abbbaa34dc"
      },
      "execution_count": 8,
      "outputs": [
        {
          "output_type": "execute_result",
          "data": {
            "text/plain": [
              "Index(['age,sex,indic_il,unit,geo\\time', '2022 ', '2021 ', '2020 ', '2019 ',\n",
              "       '2018 ', '2017 ', '2016 ', '2015 ', '2014 ', '2013 ', '2012 ', '2011 ',\n",
              "       '2010 ', '2009 ', '2008 ', '2007 ', '2006 ', '2005 ', '2004 ', '2003 ',\n",
              "       '2001 ', '2000 ', '1999 ', '1998 ', '1997 ', '1996 ', '1995 '],\n",
              "      dtype='object')"
            ]
          },
          "metadata": {},
          "execution_count": 8
        }
      ]
    },
    {
      "cell_type": "code",
      "source": [
        "mmi.head()"
      ],
      "metadata": {
        "colab": {
          "base_uri": "https://localhost:8080/",
          "height": 236
        },
        "id": "X5f7PJOwK7YH",
        "outputId": "c18b9119-ede2-4b2b-e6a7-84e7bb01d551"
      },
      "execution_count": 9,
      "outputs": [
        {
          "output_type": "execute_result",
          "data": {
            "text/plain": [
              "  age,sex,indic_il,unit,geo\\time   2022    2021    2020     2019    2018   \\\n",
              "0           TOTAL,F,MED_E,EUR,AL      :       :    2482     2195    1972    \n",
              "1           TOTAL,F,MED_E,EUR,AT      :   27048   26348    25241   24675    \n",
              "2           TOTAL,F,MED_E,EUR,BE  26826   25356   25135   24013 b  23135    \n",
              "3           TOTAL,F,MED_E,EUR,BG   5117    5012    4424     4059    3474    \n",
              "4           TOTAL,F,MED_E,EUR,CH      :   43909   41911    40146   42253    \n",
              "\n",
              "    2017    2016    2015     2014   ...   2005    2004     2003    2001   \\\n",
              "0   1747       :       :        :   ...      :       :        :       :    \n",
              "1  24433   23202   22741    22712   ...  17402   16603   15275 b  14667    \n",
              "2  21976   21550   21012    21189   ...  16081   15353   14994 b  15081    \n",
              "3   3480   3043 b   3236     3260   ...      :       :        :       :    \n",
              "4  42640   43091   38361   37278 b  ...      :       :        :       :    \n",
              "\n",
              "    2000    1999    1998    1997    1996    1995   \n",
              "0      :       :       :       :       :       :   \n",
              "1  14535   13888   13677   13841   14277   13394   \n",
              "2  14378   13885   13669   13707   13735   13085   \n",
              "3      :       :       :       :       :       :   \n",
              "4      :       :       :       :       :       :   \n",
              "\n",
              "[5 rows x 28 columns]"
            ],
            "text/html": [
              "\n",
              "  <div id=\"df-4dee4f88-7422-4982-b76b-a42d1afb9787\">\n",
              "    <div class=\"colab-df-container\">\n",
              "      <div>\n",
              "<style scoped>\n",
              "    .dataframe tbody tr th:only-of-type {\n",
              "        vertical-align: middle;\n",
              "    }\n",
              "\n",
              "    .dataframe tbody tr th {\n",
              "        vertical-align: top;\n",
              "    }\n",
              "\n",
              "    .dataframe thead th {\n",
              "        text-align: right;\n",
              "    }\n",
              "</style>\n",
              "<table border=\"1\" class=\"dataframe\">\n",
              "  <thead>\n",
              "    <tr style=\"text-align: right;\">\n",
              "      <th></th>\n",
              "      <th>age,sex,indic_il,unit,geo\\time</th>\n",
              "      <th>2022</th>\n",
              "      <th>2021</th>\n",
              "      <th>2020</th>\n",
              "      <th>2019</th>\n",
              "      <th>2018</th>\n",
              "      <th>2017</th>\n",
              "      <th>2016</th>\n",
              "      <th>2015</th>\n",
              "      <th>2014</th>\n",
              "      <th>...</th>\n",
              "      <th>2005</th>\n",
              "      <th>2004</th>\n",
              "      <th>2003</th>\n",
              "      <th>2001</th>\n",
              "      <th>2000</th>\n",
              "      <th>1999</th>\n",
              "      <th>1998</th>\n",
              "      <th>1997</th>\n",
              "      <th>1996</th>\n",
              "      <th>1995</th>\n",
              "    </tr>\n",
              "  </thead>\n",
              "  <tbody>\n",
              "    <tr>\n",
              "      <th>0</th>\n",
              "      <td>TOTAL,F,MED_E,EUR,AL</td>\n",
              "      <td>:</td>\n",
              "      <td>:</td>\n",
              "      <td>2482</td>\n",
              "      <td>2195</td>\n",
              "      <td>1972</td>\n",
              "      <td>1747</td>\n",
              "      <td>:</td>\n",
              "      <td>:</td>\n",
              "      <td>:</td>\n",
              "      <td>...</td>\n",
              "      <td>:</td>\n",
              "      <td>:</td>\n",
              "      <td>:</td>\n",
              "      <td>:</td>\n",
              "      <td>:</td>\n",
              "      <td>:</td>\n",
              "      <td>:</td>\n",
              "      <td>:</td>\n",
              "      <td>:</td>\n",
              "      <td>:</td>\n",
              "    </tr>\n",
              "    <tr>\n",
              "      <th>1</th>\n",
              "      <td>TOTAL,F,MED_E,EUR,AT</td>\n",
              "      <td>:</td>\n",
              "      <td>27048</td>\n",
              "      <td>26348</td>\n",
              "      <td>25241</td>\n",
              "      <td>24675</td>\n",
              "      <td>24433</td>\n",
              "      <td>23202</td>\n",
              "      <td>22741</td>\n",
              "      <td>22712</td>\n",
              "      <td>...</td>\n",
              "      <td>17402</td>\n",
              "      <td>16603</td>\n",
              "      <td>15275 b</td>\n",
              "      <td>14667</td>\n",
              "      <td>14535</td>\n",
              "      <td>13888</td>\n",
              "      <td>13677</td>\n",
              "      <td>13841</td>\n",
              "      <td>14277</td>\n",
              "      <td>13394</td>\n",
              "    </tr>\n",
              "    <tr>\n",
              "      <th>2</th>\n",
              "      <td>TOTAL,F,MED_E,EUR,BE</td>\n",
              "      <td>26826</td>\n",
              "      <td>25356</td>\n",
              "      <td>25135</td>\n",
              "      <td>24013 b</td>\n",
              "      <td>23135</td>\n",
              "      <td>21976</td>\n",
              "      <td>21550</td>\n",
              "      <td>21012</td>\n",
              "      <td>21189</td>\n",
              "      <td>...</td>\n",
              "      <td>16081</td>\n",
              "      <td>15353</td>\n",
              "      <td>14994 b</td>\n",
              "      <td>15081</td>\n",
              "      <td>14378</td>\n",
              "      <td>13885</td>\n",
              "      <td>13669</td>\n",
              "      <td>13707</td>\n",
              "      <td>13735</td>\n",
              "      <td>13085</td>\n",
              "    </tr>\n",
              "    <tr>\n",
              "      <th>3</th>\n",
              "      <td>TOTAL,F,MED_E,EUR,BG</td>\n",
              "      <td>5117</td>\n",
              "      <td>5012</td>\n",
              "      <td>4424</td>\n",
              "      <td>4059</td>\n",
              "      <td>3474</td>\n",
              "      <td>3480</td>\n",
              "      <td>3043 b</td>\n",
              "      <td>3236</td>\n",
              "      <td>3260</td>\n",
              "      <td>...</td>\n",
              "      <td>:</td>\n",
              "      <td>:</td>\n",
              "      <td>:</td>\n",
              "      <td>:</td>\n",
              "      <td>:</td>\n",
              "      <td>:</td>\n",
              "      <td>:</td>\n",
              "      <td>:</td>\n",
              "      <td>:</td>\n",
              "      <td>:</td>\n",
              "    </tr>\n",
              "    <tr>\n",
              "      <th>4</th>\n",
              "      <td>TOTAL,F,MED_E,EUR,CH</td>\n",
              "      <td>:</td>\n",
              "      <td>43909</td>\n",
              "      <td>41911</td>\n",
              "      <td>40146</td>\n",
              "      <td>42253</td>\n",
              "      <td>42640</td>\n",
              "      <td>43091</td>\n",
              "      <td>38361</td>\n",
              "      <td>37278 b</td>\n",
              "      <td>...</td>\n",
              "      <td>:</td>\n",
              "      <td>:</td>\n",
              "      <td>:</td>\n",
              "      <td>:</td>\n",
              "      <td>:</td>\n",
              "      <td>:</td>\n",
              "      <td>:</td>\n",
              "      <td>:</td>\n",
              "      <td>:</td>\n",
              "      <td>:</td>\n",
              "    </tr>\n",
              "  </tbody>\n",
              "</table>\n",
              "<p>5 rows × 28 columns</p>\n",
              "</div>\n",
              "      <button class=\"colab-df-convert\" onclick=\"convertToInteractive('df-4dee4f88-7422-4982-b76b-a42d1afb9787')\"\n",
              "              title=\"Convert this dataframe to an interactive table.\"\n",
              "              style=\"display:none;\">\n",
              "        \n",
              "  <svg xmlns=\"http://www.w3.org/2000/svg\" height=\"24px\"viewBox=\"0 0 24 24\"\n",
              "       width=\"24px\">\n",
              "    <path d=\"M0 0h24v24H0V0z\" fill=\"none\"/>\n",
              "    <path d=\"M18.56 5.44l.94 2.06.94-2.06 2.06-.94-2.06-.94-.94-2.06-.94 2.06-2.06.94zm-11 1L8.5 8.5l.94-2.06 2.06-.94-2.06-.94L8.5 2.5l-.94 2.06-2.06.94zm10 10l.94 2.06.94-2.06 2.06-.94-2.06-.94-.94-2.06-.94 2.06-2.06.94z\"/><path d=\"M17.41 7.96l-1.37-1.37c-.4-.4-.92-.59-1.43-.59-.52 0-1.04.2-1.43.59L10.3 9.45l-7.72 7.72c-.78.78-.78 2.05 0 2.83L4 21.41c.39.39.9.59 1.41.59.51 0 1.02-.2 1.41-.59l7.78-7.78 2.81-2.81c.8-.78.8-2.07 0-2.86zM5.41 20L4 18.59l7.72-7.72 1.47 1.35L5.41 20z\"/>\n",
              "  </svg>\n",
              "      </button>\n",
              "      \n",
              "  <style>\n",
              "    .colab-df-container {\n",
              "      display:flex;\n",
              "      flex-wrap:wrap;\n",
              "      gap: 12px;\n",
              "    }\n",
              "\n",
              "    .colab-df-convert {\n",
              "      background-color: #E8F0FE;\n",
              "      border: none;\n",
              "      border-radius: 50%;\n",
              "      cursor: pointer;\n",
              "      display: none;\n",
              "      fill: #1967D2;\n",
              "      height: 32px;\n",
              "      padding: 0 0 0 0;\n",
              "      width: 32px;\n",
              "    }\n",
              "\n",
              "    .colab-df-convert:hover {\n",
              "      background-color: #E2EBFA;\n",
              "      box-shadow: 0px 1px 2px rgba(60, 64, 67, 0.3), 0px 1px 3px 1px rgba(60, 64, 67, 0.15);\n",
              "      fill: #174EA6;\n",
              "    }\n",
              "\n",
              "    [theme=dark] .colab-df-convert {\n",
              "      background-color: #3B4455;\n",
              "      fill: #D2E3FC;\n",
              "    }\n",
              "\n",
              "    [theme=dark] .colab-df-convert:hover {\n",
              "      background-color: #434B5C;\n",
              "      box-shadow: 0px 1px 3px 1px rgba(0, 0, 0, 0.15);\n",
              "      filter: drop-shadow(0px 1px 2px rgba(0, 0, 0, 0.3));\n",
              "      fill: #FFFFFF;\n",
              "    }\n",
              "  </style>\n",
              "\n",
              "      <script>\n",
              "        const buttonEl =\n",
              "          document.querySelector('#df-4dee4f88-7422-4982-b76b-a42d1afb9787 button.colab-df-convert');\n",
              "        buttonEl.style.display =\n",
              "          google.colab.kernel.accessAllowed ? 'block' : 'none';\n",
              "\n",
              "        async function convertToInteractive(key) {\n",
              "          const element = document.querySelector('#df-4dee4f88-7422-4982-b76b-a42d1afb9787');\n",
              "          const dataTable =\n",
              "            await google.colab.kernel.invokeFunction('convertToInteractive',\n",
              "                                                     [key], {});\n",
              "          if (!dataTable) return;\n",
              "\n",
              "          const docLinkHtml = 'Like what you see? Visit the ' +\n",
              "            '<a target=\"_blank\" href=https://colab.research.google.com/notebooks/data_table.ipynb>data table notebook</a>'\n",
              "            + ' to learn more about interactive tables.';\n",
              "          element.innerHTML = '';\n",
              "          dataTable['output_type'] = 'display_data';\n",
              "          await google.colab.output.renderOutput(dataTable, element);\n",
              "          const docLink = document.createElement('div');\n",
              "          docLink.innerHTML = docLinkHtml;\n",
              "          element.appendChild(docLink);\n",
              "        }\n",
              "      </script>\n",
              "    </div>\n",
              "  </div>\n",
              "  "
            ]
          },
          "metadata": {},
          "execution_count": 9
        }
      ]
    },
    {
      "cell_type": "markdown",
      "source": [
        "# Let's make new columns for the age, gender, income indicator, and geo:"
      ],
      "metadata": {
        "id": "G0XDLpPuDhnw"
      }
    },
    {
      "cell_type": "markdown",
      "source": [
        "###Age:"
      ],
      "metadata": {
        "id": "RgM-duuJLC0O"
      }
    },
    {
      "cell_type": "code",
      "source": [
        "mmi['age'] = mmi['age,sex,indic_il,unit,geo\\\\time'].apply(lambda x: x.split(',')[0])"
      ],
      "metadata": {
        "id": "ZP8dRXayLCNk"
      },
      "execution_count": 10,
      "outputs": []
    },
    {
      "cell_type": "markdown",
      "source": [
        "###Gender:"
      ],
      "metadata": {
        "id": "vonXPwU9eH55"
      }
    },
    {
      "cell_type": "code",
      "source": [
        "mmi['gender'] = mmi['age,sex,indic_il,unit,geo\\\\time'].apply(lambda x: x.split(',')[1])"
      ],
      "metadata": {
        "id": "Y4wAepfzeGGn"
      },
      "execution_count": 11,
      "outputs": []
    },
    {
      "cell_type": "code",
      "source": [
        "mmi.gender.unique()"
      ],
      "metadata": {
        "colab": {
          "base_uri": "https://localhost:8080/"
        },
        "id": "1XUyunJWEv1X",
        "outputId": "f5cdc837-40f6-47cd-9f06-c3c07f55b511"
      },
      "execution_count": 12,
      "outputs": [
        {
          "output_type": "execute_result",
          "data": {
            "text/plain": [
              "array(['F', 'M', 'T'], dtype=object)"
            ]
          },
          "metadata": {},
          "execution_count": 12
        }
      ]
    },
    {
      "cell_type": "markdown",
      "source": [
        "Gender values are:\n",
        "\n",
        "1. F= female\n",
        "2. M = Male\n",
        "3. T = Total"
      ],
      "metadata": {
        "id": "R2aZQuCDFTlf"
      }
    },
    {
      "cell_type": "markdown",
      "source": [
        "##Income Indicator\n"
      ],
      "metadata": {
        "id": "J_5XXNUyLYo9"
      }
    },
    {
      "cell_type": "code",
      "source": [
        "# Now let's get the income indictor; third item in the age,sex,indic_il,unit,geo\\time\n",
        "\n",
        "mmi['income_indicator'] = mmi['age,sex,indic_il,unit,geo\\\\time'].apply(lambda x: x.split(',')[2])"
      ],
      "metadata": {
        "id": "gF_k06Wsijg2"
      },
      "execution_count": 13,
      "outputs": []
    },
    {
      "cell_type": "code",
      "source": [
        "mmi['income_indicator'].unique()"
      ],
      "metadata": {
        "colab": {
          "base_uri": "https://localhost:8080/"
        },
        "id": "mqwhljH-lGjG",
        "outputId": "30412f54-ad4d-4f0a-83fa-4921a4163c4c"
      },
      "execution_count": 14,
      "outputs": [
        {
          "output_type": "execute_result",
          "data": {
            "text/plain": [
              "array(['MED_E', 'MEI_E'], dtype=object)"
            ]
          },
          "metadata": {},
          "execution_count": 14
        }
      ]
    },
    {
      "cell_type": "markdown",
      "source": [
        "Based on the above code - There are two values under Income and living conditions indicator. According to EuroSat:\n",
        "\n",
        "1. MED_E = Median equivalised net income\n",
        "2. MEI_I = Mean equivalised net income \n",
        "\n",
        "\n",
        "\n",
        "Both MED_E and MEI_I are equivalised net incomes, which means that they take into account differences in household size and composition when measuring income. Equivalisation is a way of adjusting income for household size, so that households of different sizes can be compared on an equal basis.\n",
        "\n",
        "Note: The median is considered a more robust measure of central tendency than the mean, because it is less sensitive to outliers or extreme values in the income distribution."
      ],
      "metadata": {
        "id": "jh7osH5wm8L2"
      }
    },
    {
      "cell_type": "markdown",
      "source": [],
      "metadata": {
        "id": "0ppZK4v3zr3z"
      }
    },
    {
      "cell_type": "markdown",
      "source": [
        "###Unit:"
      ],
      "metadata": {
        "id": "Hb53Q6S-MAIF"
      }
    },
    {
      "cell_type": "code",
      "source": [
        "#Now let's get the unit as a column\n",
        "\n",
        "mmi['unit'] = mmi['age,sex,indic_il,unit,geo\\\\time'].apply(lambda x: x.split(',')[3])"
      ],
      "metadata": {
        "id": "pDiHmvF8xk46"
      },
      "execution_count": 15,
      "outputs": []
    },
    {
      "cell_type": "code",
      "source": [
        "mmi.unit.unique()"
      ],
      "metadata": {
        "colab": {
          "base_uri": "https://localhost:8080/"
        },
        "id": "iNc3eXhvH1fX",
        "outputId": "6d2a7372-11b0-4f30-d287-8e00b2b05f28"
      },
      "execution_count": 16,
      "outputs": [
        {
          "output_type": "execute_result",
          "data": {
            "text/plain": [
              "array(['EUR', 'NAC', 'PPS'], dtype=object)"
            ]
          },
          "metadata": {},
          "execution_count": 16
        }
      ]
    },
    {
      "cell_type": "code",
      "source": [
        "mmi.unit.value_counts()"
      ],
      "metadata": {
        "colab": {
          "base_uri": "https://localhost:8080/"
        },
        "id": "LrSX2g6rUcHE",
        "outputId": "e68f8bba-5e5f-4e59-b456-db9534a47744"
      },
      "execution_count": 17,
      "outputs": [
        {
          "output_type": "execute_result",
          "data": {
            "text/plain": [
              "EUR    6132\n",
              "PPS    6132\n",
              "NAC    5118\n",
              "Name: unit, dtype: int64"
            ]
          },
          "metadata": {},
          "execution_count": 17
        }
      ]
    },
    {
      "cell_type": "markdown",
      "source": [
        "The values in the Unit column are:\n",
        "\n",
        "EUR = euro\n",
        "NAC = National Currency\n",
        "PPS = Purchasing Power Standard\n",
        "\n",
        "----\n",
        "\n",
        "Purchasing Power Standard (PPS) is a statistical method used by the European Union (EU) to compare the relative price levels of different countries. PPS is a hypothetical currency unit that eliminates price level differences between countries, allowing for more accurate and meaningful comparisons of economic indicators such as GDP and inflation rates.\n",
        "\n",
        "The PPS is calculated using a basket of goods and services that are representative of household consumption in each country. The prices of these items are collected and weighted according to their share of total household expenditure in each country. The resulting PPS rates provide a conversion factor that can be used to compare the purchasing power of different currencies across countries.\n",
        "\n",
        "PPS is useful for comparing living standards across countries, as it takes into account differences in price levels and the purchasing power of local currencies. It is widely used by the European Union for a variety of purposes, including setting budget allocations for EU programs and determining the eligibility of countries for membership in the eurozone.\n",
        "\n",
        "It's worth noting that the PPS is not a real currency and cannot be used for transactions. It is simply a statistical tool used to facilitate cross-country comparisons of economic data."
      ],
      "metadata": {
        "id": "cSdcfTkEH8rl"
      }
    },
    {
      "cell_type": "markdown",
      "source": [
        "###Geo:"
      ],
      "metadata": {
        "id": "yN3Z7tLIZsm4"
      }
    },
    {
      "cell_type": "code",
      "source": [
        "#Now let's get the geographical entity reprting\n",
        "mmi['geo'] = mmi['age,sex,indic_il,unit,geo\\\\time'].apply(lambda x: x.split(',')[4])\n"
      ],
      "metadata": {
        "id": "VJ5GhtZEJDgA"
      },
      "execution_count": 18,
      "outputs": []
    },
    {
      "cell_type": "code",
      "source": [
        "mmi['geo'].unique()"
      ],
      "metadata": {
        "colab": {
          "base_uri": "https://localhost:8080/"
        },
        "id": "fjy_33rMKNAt",
        "outputId": "a981d7b8-21db-4f5f-a74e-f6e4b78410f8"
      },
      "execution_count": 19,
      "outputs": [
        {
          "output_type": "execute_result",
          "data": {
            "text/plain": [
              "array(['AL', 'AT', 'BE', 'BG', 'CH', 'CY', 'CZ', 'DE', 'DK', 'EA', 'EA18',\n",
              "       'EA19', 'EE', 'EL', 'ES', 'EU', 'EU15', 'EU27_2007', 'EU27_2020',\n",
              "       'EU28', 'FI', 'FR', 'HR', 'HU', 'IE', 'IS', 'IT', 'LT', 'LU', 'LV',\n",
              "       'ME', 'MK', 'MT', 'NL', 'NO', 'PL', 'PT', 'RO', 'RS', 'SE', 'SI',\n",
              "       'SK', 'TR', 'UK', 'XK'], dtype=object)"
            ]
          },
          "metadata": {},
          "execution_count": 19
        }
      ]
    },
    {
      "cell_type": "markdown",
      "source": [
        "##Now, let's drop the 'age,sex,indic_il,unit,geo\\\\time' column:"
      ],
      "metadata": {
        "id": "mlOGyXV5Z9Jo"
      }
    },
    {
      "cell_type": "code",
      "source": [
        "mmi = mmi.drop('age,sex,indic_il,unit,geo\\\\time', axis = 1)"
      ],
      "metadata": {
        "id": "j4ENomzMOqPM"
      },
      "execution_count": 20,
      "outputs": []
    },
    {
      "cell_type": "code",
      "source": [
        "mmi.columns"
      ],
      "metadata": {
        "colab": {
          "base_uri": "https://localhost:8080/"
        },
        "id": "EkKOcR-cOJXd",
        "outputId": "8d97b249-2ad4-4af5-efd7-98e36a6ba3d2"
      },
      "execution_count": 21,
      "outputs": [
        {
          "output_type": "execute_result",
          "data": {
            "text/plain": [
              "Index(['2022 ', '2021 ', '2020 ', '2019 ', '2018 ', '2017 ', '2016 ', '2015 ',\n",
              "       '2014 ', '2013 ', '2012 ', '2011 ', '2010 ', '2009 ', '2008 ', '2007 ',\n",
              "       '2006 ', '2005 ', '2004 ', '2003 ', '2001 ', '2000 ', '1999 ', '1998 ',\n",
              "       '1997 ', '1996 ', '1995 ', 'age', 'gender', 'income_indicator', 'unit',\n",
              "       'geo'],\n",
              "      dtype='object')"
            ]
          },
          "metadata": {},
          "execution_count": 21
        }
      ]
    },
    {
      "cell_type": "markdown",
      "source": [
        "##We want to compare EU countries, so it would be helpful to create a column with just country codes and another with country names (because it is very hard to remember which countries all these codes represent:\n",
        "\n",
        "\n"
      ],
      "metadata": {
        "id": "abW6UIs4_SyV"
      }
    },
    {
      "cell_type": "code",
      "source": [
        "mmi['geo'].unique()"
      ],
      "metadata": {
        "colab": {
          "base_uri": "https://localhost:8080/"
        },
        "id": "-pF-yHwEcJ6g",
        "outputId": "c04c163b-016a-4676-9a29-2b56f0b43b24"
      },
      "execution_count": 22,
      "outputs": [
        {
          "output_type": "execute_result",
          "data": {
            "text/plain": [
              "array(['AL', 'AT', 'BE', 'BG', 'CH', 'CY', 'CZ', 'DE', 'DK', 'EA', 'EA18',\n",
              "       'EA19', 'EE', 'EL', 'ES', 'EU', 'EU15', 'EU27_2007', 'EU27_2020',\n",
              "       'EU28', 'FI', 'FR', 'HR', 'HU', 'IE', 'IS', 'IT', 'LT', 'LU', 'LV',\n",
              "       'ME', 'MK', 'MT', 'NL', 'NO', 'PL', 'PT', 'RO', 'RS', 'SE', 'SI',\n",
              "       'SK', 'TR', 'UK', 'XK'], dtype=object)"
            ]
          },
          "metadata": {},
          "execution_count": 22
        }
      ]
    },
    {
      "cell_type": "code",
      "source": [
        "# create a dictionary to map country codes to country names\n",
        "country_dict = {'AL': 'Albania', 'AT': 'Austria', 'BE': 'Belgium', 'BG': 'Bulgaria', 'CH': 'Switzerland', 'CY': 'Cyprus',\n",
        "                'CZ': 'Czech Republic', 'DE': 'Germany', 'DK': 'Denmark', 'EE': 'Estonia', 'EL': 'Greece',\n",
        "                'ES': 'Spain', 'FI': 'Finland', 'FR': 'France', 'HR': 'Croatia', 'HU': 'Hungary', 'IE': 'Ireland',\n",
        "                'IS': 'Iceland', 'IT': 'Italy', 'LT': 'Lithuania', 'LU': 'Luxembourg', 'LV': 'Latvia', 'ME': 'Montenegro',\n",
        "                'MK': 'North Macedonia', 'MT': 'Malta', 'NL': 'Netherlands', 'NO': 'Norway', 'PL': 'Poland',\n",
        "                'PT': 'Portugal', 'RO': 'Romania', 'RS': 'Serbia', 'SE': 'Sweden', 'SI': 'Slovenia', 'SK': 'Slovakia',\n",
        "                'TR': 'Turkey', 'UK': 'United Kingdom', 'XK': 'Kosovo'}\n",
        "\n",
        "# create new column with country codes only\n",
        "mmi['country_code'] = mmi['geo'].apply(lambda x: x if x in country_dict else None)\n",
        "\n",
        "# create new column with country names\n",
        "mmi['country'] = mmi['country_code'].map(country_dict)\n"
      ],
      "metadata": {
        "id": "EXd9SaWygvnW"
      },
      "execution_count": 23,
      "outputs": []
    },
    {
      "cell_type": "markdown",
      "source": [
        "##Let's check our reorganized dateframe's first five rows:\n",
        "\n",
        "\n"
      ],
      "metadata": {
        "id": "Def0603cZvzv"
      }
    },
    {
      "cell_type": "markdown",
      "source": [
        "##Let's fix our column names by removing any leading or trailing white spaces:\n"
      ],
      "metadata": {
        "id": "xuwuRjkXmzu6"
      }
    },
    {
      "cell_type": "code",
      "source": [
        "mmi.columns = mmi.columns.str.strip()\n"
      ],
      "metadata": {
        "id": "ke73-yKn2qPl"
      },
      "execution_count": 24,
      "outputs": []
    },
    {
      "cell_type": "markdown",
      "source": [
        "# Now let's check on our dataframe"
      ],
      "metadata": {
        "id": "KiyaiI_HlGeV"
      }
    },
    {
      "cell_type": "code",
      "source": [
        "mmi.head()"
      ],
      "metadata": {
        "colab": {
          "base_uri": "https://localhost:8080/",
          "height": 236
        },
        "id": "qk_lM_eglGA-",
        "outputId": "67b32f34-f22c-46d7-ebcb-aafbcc102fdd"
      },
      "execution_count": 25,
      "outputs": [
        {
          "output_type": "execute_result",
          "data": {
            "text/plain": [
              "     2022    2021    2020     2019    2018    2017    2016    2015     2014  \\\n",
              "0      :       :    2482     2195    1972    1747       :       :        :    \n",
              "1      :   27048   26348    25241   24675   24433   23202   22741    22712    \n",
              "2  26826   25356   25135   24013 b  23135   21976   21550   21012    21189    \n",
              "3   5117    5012    4424     4059    3474    3480   3043 b   3236     3260    \n",
              "4      :   43909   41911    40146   42253   42640   43091   38361   37278 b   \n",
              "\n",
              "     2013  ...    1997    1996    1995    age gender income_indicator unit  \\\n",
              "0      :   ...      :       :       :   TOTAL      F            MED_E  EUR   \n",
              "1  21629   ...  13841   14277   13394   TOTAL      F            MED_E  EUR   \n",
              "2  20878   ...  13707   13735   13085   TOTAL      F            MED_E  EUR   \n",
              "3   2860   ...      :       :       :   TOTAL      F            MED_E  EUR   \n",
              "4  39783   ...      :       :       :   TOTAL      F            MED_E  EUR   \n",
              "\n",
              "  geo country_code      country  \n",
              "0  AL           AL      Albania  \n",
              "1  AT           AT      Austria  \n",
              "2  BE           BE      Belgium  \n",
              "3  BG           BG     Bulgaria  \n",
              "4  CH           CH  Switzerland  \n",
              "\n",
              "[5 rows x 34 columns]"
            ],
            "text/html": [
              "\n",
              "  <div id=\"df-0559bf2a-1d66-409a-b24b-f831eec5801f\">\n",
              "    <div class=\"colab-df-container\">\n",
              "      <div>\n",
              "<style scoped>\n",
              "    .dataframe tbody tr th:only-of-type {\n",
              "        vertical-align: middle;\n",
              "    }\n",
              "\n",
              "    .dataframe tbody tr th {\n",
              "        vertical-align: top;\n",
              "    }\n",
              "\n",
              "    .dataframe thead th {\n",
              "        text-align: right;\n",
              "    }\n",
              "</style>\n",
              "<table border=\"1\" class=\"dataframe\">\n",
              "  <thead>\n",
              "    <tr style=\"text-align: right;\">\n",
              "      <th></th>\n",
              "      <th>2022</th>\n",
              "      <th>2021</th>\n",
              "      <th>2020</th>\n",
              "      <th>2019</th>\n",
              "      <th>2018</th>\n",
              "      <th>2017</th>\n",
              "      <th>2016</th>\n",
              "      <th>2015</th>\n",
              "      <th>2014</th>\n",
              "      <th>2013</th>\n",
              "      <th>...</th>\n",
              "      <th>1997</th>\n",
              "      <th>1996</th>\n",
              "      <th>1995</th>\n",
              "      <th>age</th>\n",
              "      <th>gender</th>\n",
              "      <th>income_indicator</th>\n",
              "      <th>unit</th>\n",
              "      <th>geo</th>\n",
              "      <th>country_code</th>\n",
              "      <th>country</th>\n",
              "    </tr>\n",
              "  </thead>\n",
              "  <tbody>\n",
              "    <tr>\n",
              "      <th>0</th>\n",
              "      <td>:</td>\n",
              "      <td>:</td>\n",
              "      <td>2482</td>\n",
              "      <td>2195</td>\n",
              "      <td>1972</td>\n",
              "      <td>1747</td>\n",
              "      <td>:</td>\n",
              "      <td>:</td>\n",
              "      <td>:</td>\n",
              "      <td>:</td>\n",
              "      <td>...</td>\n",
              "      <td>:</td>\n",
              "      <td>:</td>\n",
              "      <td>:</td>\n",
              "      <td>TOTAL</td>\n",
              "      <td>F</td>\n",
              "      <td>MED_E</td>\n",
              "      <td>EUR</td>\n",
              "      <td>AL</td>\n",
              "      <td>AL</td>\n",
              "      <td>Albania</td>\n",
              "    </tr>\n",
              "    <tr>\n",
              "      <th>1</th>\n",
              "      <td>:</td>\n",
              "      <td>27048</td>\n",
              "      <td>26348</td>\n",
              "      <td>25241</td>\n",
              "      <td>24675</td>\n",
              "      <td>24433</td>\n",
              "      <td>23202</td>\n",
              "      <td>22741</td>\n",
              "      <td>22712</td>\n",
              "      <td>21629</td>\n",
              "      <td>...</td>\n",
              "      <td>13841</td>\n",
              "      <td>14277</td>\n",
              "      <td>13394</td>\n",
              "      <td>TOTAL</td>\n",
              "      <td>F</td>\n",
              "      <td>MED_E</td>\n",
              "      <td>EUR</td>\n",
              "      <td>AT</td>\n",
              "      <td>AT</td>\n",
              "      <td>Austria</td>\n",
              "    </tr>\n",
              "    <tr>\n",
              "      <th>2</th>\n",
              "      <td>26826</td>\n",
              "      <td>25356</td>\n",
              "      <td>25135</td>\n",
              "      <td>24013 b</td>\n",
              "      <td>23135</td>\n",
              "      <td>21976</td>\n",
              "      <td>21550</td>\n",
              "      <td>21012</td>\n",
              "      <td>21189</td>\n",
              "      <td>20878</td>\n",
              "      <td>...</td>\n",
              "      <td>13707</td>\n",
              "      <td>13735</td>\n",
              "      <td>13085</td>\n",
              "      <td>TOTAL</td>\n",
              "      <td>F</td>\n",
              "      <td>MED_E</td>\n",
              "      <td>EUR</td>\n",
              "      <td>BE</td>\n",
              "      <td>BE</td>\n",
              "      <td>Belgium</td>\n",
              "    </tr>\n",
              "    <tr>\n",
              "      <th>3</th>\n",
              "      <td>5117</td>\n",
              "      <td>5012</td>\n",
              "      <td>4424</td>\n",
              "      <td>4059</td>\n",
              "      <td>3474</td>\n",
              "      <td>3480</td>\n",
              "      <td>3043 b</td>\n",
              "      <td>3236</td>\n",
              "      <td>3260</td>\n",
              "      <td>2860</td>\n",
              "      <td>...</td>\n",
              "      <td>:</td>\n",
              "      <td>:</td>\n",
              "      <td>:</td>\n",
              "      <td>TOTAL</td>\n",
              "      <td>F</td>\n",
              "      <td>MED_E</td>\n",
              "      <td>EUR</td>\n",
              "      <td>BG</td>\n",
              "      <td>BG</td>\n",
              "      <td>Bulgaria</td>\n",
              "    </tr>\n",
              "    <tr>\n",
              "      <th>4</th>\n",
              "      <td>:</td>\n",
              "      <td>43909</td>\n",
              "      <td>41911</td>\n",
              "      <td>40146</td>\n",
              "      <td>42253</td>\n",
              "      <td>42640</td>\n",
              "      <td>43091</td>\n",
              "      <td>38361</td>\n",
              "      <td>37278 b</td>\n",
              "      <td>39783</td>\n",
              "      <td>...</td>\n",
              "      <td>:</td>\n",
              "      <td>:</td>\n",
              "      <td>:</td>\n",
              "      <td>TOTAL</td>\n",
              "      <td>F</td>\n",
              "      <td>MED_E</td>\n",
              "      <td>EUR</td>\n",
              "      <td>CH</td>\n",
              "      <td>CH</td>\n",
              "      <td>Switzerland</td>\n",
              "    </tr>\n",
              "  </tbody>\n",
              "</table>\n",
              "<p>5 rows × 34 columns</p>\n",
              "</div>\n",
              "      <button class=\"colab-df-convert\" onclick=\"convertToInteractive('df-0559bf2a-1d66-409a-b24b-f831eec5801f')\"\n",
              "              title=\"Convert this dataframe to an interactive table.\"\n",
              "              style=\"display:none;\">\n",
              "        \n",
              "  <svg xmlns=\"http://www.w3.org/2000/svg\" height=\"24px\"viewBox=\"0 0 24 24\"\n",
              "       width=\"24px\">\n",
              "    <path d=\"M0 0h24v24H0V0z\" fill=\"none\"/>\n",
              "    <path d=\"M18.56 5.44l.94 2.06.94-2.06 2.06-.94-2.06-.94-.94-2.06-.94 2.06-2.06.94zm-11 1L8.5 8.5l.94-2.06 2.06-.94-2.06-.94L8.5 2.5l-.94 2.06-2.06.94zm10 10l.94 2.06.94-2.06 2.06-.94-2.06-.94-.94-2.06-.94 2.06-2.06.94z\"/><path d=\"M17.41 7.96l-1.37-1.37c-.4-.4-.92-.59-1.43-.59-.52 0-1.04.2-1.43.59L10.3 9.45l-7.72 7.72c-.78.78-.78 2.05 0 2.83L4 21.41c.39.39.9.59 1.41.59.51 0 1.02-.2 1.41-.59l7.78-7.78 2.81-2.81c.8-.78.8-2.07 0-2.86zM5.41 20L4 18.59l7.72-7.72 1.47 1.35L5.41 20z\"/>\n",
              "  </svg>\n",
              "      </button>\n",
              "      \n",
              "  <style>\n",
              "    .colab-df-container {\n",
              "      display:flex;\n",
              "      flex-wrap:wrap;\n",
              "      gap: 12px;\n",
              "    }\n",
              "\n",
              "    .colab-df-convert {\n",
              "      background-color: #E8F0FE;\n",
              "      border: none;\n",
              "      border-radius: 50%;\n",
              "      cursor: pointer;\n",
              "      display: none;\n",
              "      fill: #1967D2;\n",
              "      height: 32px;\n",
              "      padding: 0 0 0 0;\n",
              "      width: 32px;\n",
              "    }\n",
              "\n",
              "    .colab-df-convert:hover {\n",
              "      background-color: #E2EBFA;\n",
              "      box-shadow: 0px 1px 2px rgba(60, 64, 67, 0.3), 0px 1px 3px 1px rgba(60, 64, 67, 0.15);\n",
              "      fill: #174EA6;\n",
              "    }\n",
              "\n",
              "    [theme=dark] .colab-df-convert {\n",
              "      background-color: #3B4455;\n",
              "      fill: #D2E3FC;\n",
              "    }\n",
              "\n",
              "    [theme=dark] .colab-df-convert:hover {\n",
              "      background-color: #434B5C;\n",
              "      box-shadow: 0px 1px 3px 1px rgba(0, 0, 0, 0.15);\n",
              "      filter: drop-shadow(0px 1px 2px rgba(0, 0, 0, 0.3));\n",
              "      fill: #FFFFFF;\n",
              "    }\n",
              "  </style>\n",
              "\n",
              "      <script>\n",
              "        const buttonEl =\n",
              "          document.querySelector('#df-0559bf2a-1d66-409a-b24b-f831eec5801f button.colab-df-convert');\n",
              "        buttonEl.style.display =\n",
              "          google.colab.kernel.accessAllowed ? 'block' : 'none';\n",
              "\n",
              "        async function convertToInteractive(key) {\n",
              "          const element = document.querySelector('#df-0559bf2a-1d66-409a-b24b-f831eec5801f');\n",
              "          const dataTable =\n",
              "            await google.colab.kernel.invokeFunction('convertToInteractive',\n",
              "                                                     [key], {});\n",
              "          if (!dataTable) return;\n",
              "\n",
              "          const docLinkHtml = 'Like what you see? Visit the ' +\n",
              "            '<a target=\"_blank\" href=https://colab.research.google.com/notebooks/data_table.ipynb>data table notebook</a>'\n",
              "            + ' to learn more about interactive tables.';\n",
              "          element.innerHTML = '';\n",
              "          dataTable['output_type'] = 'display_data';\n",
              "          await google.colab.output.renderOutput(dataTable, element);\n",
              "          const docLink = document.createElement('div');\n",
              "          docLink.innerHTML = docLinkHtml;\n",
              "          element.appendChild(docLink);\n",
              "        }\n",
              "      </script>\n",
              "    </div>\n",
              "  </div>\n",
              "  "
            ]
          },
          "metadata": {},
          "execution_count": 25
        }
      ]
    },
    {
      "cell_type": "markdown",
      "source": [
        "##Let's try to deal with all the missing values in our dataframe:"
      ],
      "metadata": {
        "id": "tAfen-Mfa6QC"
      }
    },
    {
      "cell_type": "code",
      "source": [
        "mmi_clean = mmi.replace(to_replace=r':', value=np.NaN, regex=True)\n"
      ],
      "metadata": {
        "id": "mw-npVyN2RHY"
      },
      "execution_count": 26,
      "outputs": []
    },
    {
      "cell_type": "code",
      "source": [
        "mmi_clean.isna().sum()"
      ],
      "metadata": {
        "colab": {
          "base_uri": "https://localhost:8080/"
        },
        "id": "h919chSt4Mvf",
        "outputId": "2b6d86a0-c75a-42f0-c6b3-3858d411eea6"
      },
      "execution_count": 27,
      "outputs": [
        {
          "output_type": "execute_result",
          "data": {
            "text/plain": [
              "2022                16194\n",
              "2021                 5502\n",
              "2020                 2862\n",
              "2019                 2070\n",
              "2018                  882\n",
              "2017                 2202\n",
              "2016                 2598\n",
              "2015                 2598\n",
              "2014                 2598\n",
              "2013                 2598\n",
              "2012                 3390\n",
              "2011                 3786\n",
              "2010                 3786\n",
              "2009                 4446\n",
              "2008                 4446\n",
              "2007                 4710\n",
              "2006                 5502\n",
              "2005                 6294\n",
              "2004                11442\n",
              "2003                14610\n",
              "2001                13692\n",
              "2000                13692\n",
              "1999                13692\n",
              "1998                13692\n",
              "1997                13692\n",
              "1996                13692\n",
              "1995                13962\n",
              "age                     0\n",
              "gender                  0\n",
              "income_indicator        0\n",
              "unit                    0\n",
              "geo                     0\n",
              "country_code         2028\n",
              "country              2028\n",
              "dtype: int64"
            ]
          },
          "metadata": {},
          "execution_count": 27
        }
      ]
    },
    {
      "cell_type": "markdown",
      "source": [
        "Let's clean our data"
      ],
      "metadata": {
        "id": "BfpFpLbx-h_m"
      }
    },
    {
      "cell_type": "markdown",
      "source": [
        "##Holy Molly so much Nan!"
      ],
      "metadata": {
        "id": "9jdua9F0bEgC"
      }
    },
    {
      "cell_type": "code",
      "source": [
        "mmi_clean= mmi_clean.dropna()"
      ],
      "metadata": {
        "id": "vyxM-bBn4SnW"
      },
      "execution_count": 28,
      "outputs": []
    },
    {
      "cell_type": "code",
      "source": [
        "mmi_clean.shape"
      ],
      "metadata": {
        "colab": {
          "base_uri": "https://localhost:8080/"
        },
        "id": "nt8Dr8GnCGOV",
        "outputId": "92ada97a-23cf-45db-81fb-afc090c0802f"
      },
      "execution_count": 29,
      "outputs": [
        {
          "output_type": "execute_result",
          "data": {
            "text/plain": [
              "(216, 34)"
            ]
          },
          "metadata": {},
          "execution_count": 29
        }
      ]
    },
    {
      "cell_type": "code",
      "source": [
        "mmi_clean.geo.unique()"
      ],
      "metadata": {
        "colab": {
          "base_uri": "https://localhost:8080/"
        },
        "id": "9lKLkwcv4W-3",
        "outputId": "d0320c15-76f3-49cd-f102-e55c95534df6"
      },
      "execution_count": 30,
      "outputs": [
        {
          "output_type": "execute_result",
          "data": {
            "text/plain": [
              "array(['BE'], dtype=object)"
            ]
          },
          "metadata": {},
          "execution_count": 30
        }
      ]
    },
    {
      "cell_type": "code",
      "source": [],
      "metadata": {
        "id": "-ko48WRPblsC"
      },
      "execution_count": 30,
      "outputs": []
    },
    {
      "cell_type": "markdown",
      "source": [
        "# Looks like Belgium is the only country without missing values in any column. I guess dropna would not work for us.\n",
        "\n"
      ],
      "metadata": {
        "id": "gpEUmXXtEijj"
      }
    },
    {
      "cell_type": "markdown",
      "source": [
        "###Let's check which columns have the most missing data"
      ],
      "metadata": {
        "id": "sIK_QFOalzDn"
      }
    },
    {
      "cell_type": "code",
      "source": [
        "mmi = mmi.replace(to_replace=r':', value=np.NaN, regex=True)"
      ],
      "metadata": {
        "id": "uU09euxlmYbm"
      },
      "execution_count": 31,
      "outputs": []
    },
    {
      "cell_type": "code",
      "source": [
        "mmi.columns"
      ],
      "metadata": {
        "colab": {
          "base_uri": "https://localhost:8080/"
        },
        "id": "qr2mD2e8nB1l",
        "outputId": "fca607e3-6c04-4167-fd5e-37cb63856092"
      },
      "execution_count": 32,
      "outputs": [
        {
          "output_type": "execute_result",
          "data": {
            "text/plain": [
              "Index(['2022', '2021', '2020', '2019', '2018', '2017', '2016', '2015', '2014',\n",
              "       '2013', '2012', '2011', '2010', '2009', '2008', '2007', '2006', '2005',\n",
              "       '2004', '2003', '2001', '2000', '1999', '1998', '1997', '1996', '1995',\n",
              "       'age', 'gender', 'income_indicator', 'unit', 'geo', 'country_code',\n",
              "       'country'],\n",
              "      dtype='object')"
            ]
          },
          "metadata": {},
          "execution_count": 32
        }
      ]
    },
    {
      "cell_type": "code",
      "source": [
        "# Extract year columns\n",
        "year_cols = [col for col in mmi.columns if col.isdigit()]\n",
        "plt.figure(figsize=(24, 16))\n",
        "# Count NaN values in year columns\n",
        "nan_counts = mmi[year_cols].isna().sum().sort_index()\n",
        "\n",
        "# Plot bar chart\n",
        "plt.bar(nan_counts.index, nan_counts.values)\n",
        "\n",
        "# Set plot labels and title\n",
        "plt.xlabel('Year')\n",
        "plt.ylabel('Number of NaN values')\n",
        "plt.title('NaN Values by Year')\n",
        "\n",
        "# Show plot\n",
        "plt.show()"
      ],
      "metadata": {
        "colab": {
          "base_uri": "https://localhost:8080/",
          "height": 1000
        },
        "id": "3g0oK5kznPaG",
        "outputId": "29b8b617-75c3-446e-9b2c-17d971c40b47"
      },
      "execution_count": 33,
      "outputs": [
        {
          "output_type": "display_data",
          "data": {
            "text/plain": [
              "<Figure size 2400x1600 with 1 Axes>"
            ],
            "image/png": "[encoded data removed]"
          },
          "metadata": {}
        }
      ]
    },
    {
      "cell_type": "code",
      "source": [
        "mmi.columns"
      ],
      "metadata": {
        "colab": {
          "base_uri": "https://localhost:8080/"
        },
        "id": "KnIUMgospDHt",
        "outputId": "38eb584b-999f-4baa-d608-10fb86621abc"
      },
      "execution_count": 34,
      "outputs": [
        {
          "output_type": "execute_result",
          "data": {
            "text/plain": [
              "Index(['2022', '2021', '2020', '2019', '2018', '2017', '2016', '2015', '2014',\n",
              "       '2013', '2012', '2011', '2010', '2009', '2008', '2007', '2006', '2005',\n",
              "       '2004', '2003', '2001', '2000', '1999', '1998', '1997', '1996', '1995',\n",
              "       'age', 'gender', 'income_indicator', 'unit', 'geo', 'country_code',\n",
              "       'country'],\n",
              "      dtype='object')"
            ]
          },
          "metadata": {},
          "execution_count": 34
        }
      ]
    },
    {
      "cell_type": "markdown",
      "source": [
        "##Let's see which geopolitical entity is associated with those Nan values:"
      ],
      "metadata": {
        "id": "DjFJPWTjsAGl"
      }
    },
    {
      "cell_type": "code",
      "source": [
        "year_columns = [col for col in mmi.columns if col.isnumeric()]\n",
        "\n",
        "\n",
        "nan_count = mmi.groupby('geo')[year_columns].apply(lambda x: x.isna().sum())\n",
        "\n",
        "nan_count.plot(kind='bar', stacked=True, figsize=(30,14))\n",
        "plt.title('NaN values by geo')\n",
        "plt.xlabel('Geo')\n",
        "plt.ylabel('Number of NaN values')\n",
        "plt.legend(loc='upper center', bbox_to_anchor=(0.5, 1.15), ncol=3)\n",
        "\n",
        "plt.show()\n"
      ],
      "metadata": {
        "colab": {
          "base_uri": "https://localhost:8080/",
          "height": 859
        },
        "id": "T4BoTJbonqYm",
        "outputId": "97b7e32e-c6cd-4846-e777-72535f5e4d9b"
      },
      "execution_count": 35,
      "outputs": [
        {
          "output_type": "display_data",
          "data": {
            "text/plain": [
              "<Figure size 3000x1400 with 1 Axes>"
            ],
            "image/png": "[encoded data removed]"
          },
          "metadata": {}
        }
      ]
    },
    {
      "cell_type": "code",
      "source": [
        "year_columns = [col for col in mmi.columns if col.isnumeric()]\n",
        "\n",
        "nan_count = mmi.groupby('geo')[year_columns].apply(lambda x: x.isna().sum())\n",
        "nan_count = nan_count.sum(axis=1).sort_values(ascending=True)\n",
        "\n",
        "nan_count.plot(kind='bar', figsize=(30, 14))\n",
        "plt.title('NaN values by geo')\n",
        "plt.xlabel('Geo')\n",
        "plt.ylabel('Number of NaN values')\n",
        "plt.show()"
      ],
      "metadata": {
        "colab": {
          "base_uri": "https://localhost:8080/",
          "height": 777
        },
        "id": "sgfahx6QsXBt",
        "outputId": "628cc922-4577-481e-8229-a353d7daf5e4"
      },
      "execution_count": 36,
      "outputs": [
        {
          "output_type": "display_data",
          "data": {
            "text/plain": [
              "<Figure size 3000x1400 with 1 Axes>"
            ],
            "image/png": "[encoded data removed]"
          },
          "metadata": {}
        }
      ]
    },
    {
      "cell_type": "markdown",
      "source": [
        "Now, since we are interested in analysing income by gender. It would make sense to test check the consistency of our data:"
      ],
      "metadata": {
        "id": "RXGbjXhAuFyV"
      }
    },
    {
      "cell_type": "code",
      "source": [
        "mmi['gender'].unique()"
      ],
      "metadata": {
        "colab": {
          "base_uri": "https://localhost:8080/"
        },
        "id": "ePEtIn_4vyTk",
        "outputId": "e5b99b20-5334-45f9-a0f6-9e9d50e7174a"
      },
      "execution_count": 37,
      "outputs": [
        {
          "output_type": "execute_result",
          "data": {
            "text/plain": [
              "array(['F', 'M', 'T'], dtype=object)"
            ]
          },
          "metadata": {},
          "execution_count": 37
        }
      ]
    },
    {
      "cell_type": "code",
      "source": [
        "mmi.head()"
      ],
      "metadata": {
        "colab": {
          "base_uri": "https://localhost:8080/",
          "height": 236
        },
        "id": "2C_lxRijuaF-",
        "outputId": "ba7fa943-0832-4dcc-bb54-4fbc9c575262"
      },
      "execution_count": 38,
      "outputs": [
        {
          "output_type": "execute_result",
          "data": {
            "text/plain": [
              "     2022    2021    2020     2019    2018    2017    2016    2015     2014  \\\n",
              "0     NaN     NaN   2482     2195    1972    1747      NaN     NaN      NaN   \n",
              "1     NaN  27048   26348    25241   24675   24433   23202   22741    22712    \n",
              "2  26826   25356   25135   24013 b  23135   21976   21550   21012    21189    \n",
              "3   5117    5012    4424     4059    3474    3480   3043 b   3236     3260    \n",
              "4     NaN  43909   41911    40146   42253   42640   43091   38361   37278 b   \n",
              "\n",
              "     2013  ...    1997    1996    1995    age gender income_indicator unit  \\\n",
              "0     NaN  ...     NaN     NaN     NaN  TOTAL      F            MED_E  EUR   \n",
              "1  21629   ...  13841   14277   13394   TOTAL      F            MED_E  EUR   \n",
              "2  20878   ...  13707   13735   13085   TOTAL      F            MED_E  EUR   \n",
              "3   2860   ...     NaN     NaN     NaN  TOTAL      F            MED_E  EUR   \n",
              "4  39783   ...     NaN     NaN     NaN  TOTAL      F            MED_E  EUR   \n",
              "\n",
              "  geo country_code      country  \n",
              "0  AL           AL      Albania  \n",
              "1  AT           AT      Austria  \n",
              "2  BE           BE      Belgium  \n",
              "3  BG           BG     Bulgaria  \n",
              "4  CH           CH  Switzerland  \n",
              "\n",
              "[5 rows x 34 columns]"
            ],
            "text/html": [
              "\n",
              "  <div id=\"df-fabdeaa5-e154-4963-b83f-8abcdaa117f8\">\n",
              "    <div class=\"colab-df-container\">\n",
              "      <div>\n",
              "<style scoped>\n",
              "    .dataframe tbody tr th:only-of-type {\n",
              "        vertical-align: middle;\n",
              "    }\n",
              "\n",
              "    .dataframe tbody tr th {\n",
              "        vertical-align: top;\n",
              "    }\n",
              "\n",
              "    .dataframe thead th {\n",
              "        text-align: right;\n",
              "    }\n",
              "</style>\n",
              "<table border=\"1\" class=\"dataframe\">\n",
              "  <thead>\n",
              "    <tr style=\"text-align: right;\">\n",
              "      <th></th>\n",
              "      <th>2022</th>\n",
              "      <th>2021</th>\n",
              "      <th>2020</th>\n",
              "      <th>2019</th>\n",
              "      <th>2018</th>\n",
              "      <th>2017</th>\n",
              "      <th>2016</th>\n",
              "      <th>2015</th>\n",
              "      <th>2014</th>\n",
              "      <th>2013</th>\n",
              "      <th>...</th>\n",
              "      <th>1997</th>\n",
              "      <th>1996</th>\n",
              "      <th>1995</th>\n",
              "      <th>age</th>\n",
              "      <th>gender</th>\n",
              "      <th>income_indicator</th>\n",
              "      <th>unit</th>\n",
              "      <th>geo</th>\n",
              "      <th>country_code</th>\n",
              "      <th>country</th>\n",
              "    </tr>\n",
              "  </thead>\n",
              "  <tbody>\n",
              "    <tr>\n",
              "      <th>0</th>\n",
              "      <td>NaN</td>\n",
              "      <td>NaN</td>\n",
              "      <td>2482</td>\n",
              "      <td>2195</td>\n",
              "      <td>1972</td>\n",
              "      <td>1747</td>\n",
              "      <td>NaN</td>\n",
              "      <td>NaN</td>\n",
              "      <td>NaN</td>\n",
              "      <td>NaN</td>\n",
              "      <td>...</td>\n",
              "      <td>NaN</td>\n",
              "      <td>NaN</td>\n",
              "      <td>NaN</td>\n",
              "      <td>TOTAL</td>\n",
              "      <td>F</td>\n",
              "      <td>MED_E</td>\n",
              "      <td>EUR</td>\n",
              "      <td>AL</td>\n",
              "      <td>AL</td>\n",
              "      <td>Albania</td>\n",
              "    </tr>\n",
              "    <tr>\n",
              "      <th>1</th>\n",
              "      <td>NaN</td>\n",
              "      <td>27048</td>\n",
              "      <td>26348</td>\n",
              "      <td>25241</td>\n",
              "      <td>24675</td>\n",
              "      <td>24433</td>\n",
              "      <td>23202</td>\n",
              "      <td>22741</td>\n",
              "      <td>22712</td>\n",
              "      <td>21629</td>\n",
              "      <td>...</td>\n",
              "      <td>13841</td>\n",
              "      <td>14277</td>\n",
              "      <td>13394</td>\n",
              "      <td>TOTAL</td>\n",
              "      <td>F</td>\n",
              "      <td>MED_E</td>\n",
              "      <td>EUR</td>\n",
              "      <td>AT</td>\n",
              "      <td>AT</td>\n",
              "      <td>Austria</td>\n",
              "    </tr>\n",
              "    <tr>\n",
              "      <th>2</th>\n",
              "      <td>26826</td>\n",
              "      <td>25356</td>\n",
              "      <td>25135</td>\n",
              "      <td>24013 b</td>\n",
              "      <td>23135</td>\n",
              "      <td>21976</td>\n",
              "      <td>21550</td>\n",
              "      <td>21012</td>\n",
              "      <td>21189</td>\n",
              "      <td>20878</td>\n",
              "      <td>...</td>\n",
              "      <td>13707</td>\n",
              "      <td>13735</td>\n",
              "      <td>13085</td>\n",
              "      <td>TOTAL</td>\n",
              "      <td>F</td>\n",
              "      <td>MED_E</td>\n",
              "      <td>EUR</td>\n",
              "      <td>BE</td>\n",
              "      <td>BE</td>\n",
              "      <td>Belgium</td>\n",
              "    </tr>\n",
              "    <tr>\n",
              "      <th>3</th>\n",
              "      <td>5117</td>\n",
              "      <td>5012</td>\n",
              "      <td>4424</td>\n",
              "      <td>4059</td>\n",
              "      <td>3474</td>\n",
              "      <td>3480</td>\n",
              "      <td>3043 b</td>\n",
              "      <td>3236</td>\n",
              "      <td>3260</td>\n",
              "      <td>2860</td>\n",
              "      <td>...</td>\n",
              "      <td>NaN</td>\n",
              "      <td>NaN</td>\n",
              "      <td>NaN</td>\n",
              "      <td>TOTAL</td>\n",
              "      <td>F</td>\n",
              "      <td>MED_E</td>\n",
              "      <td>EUR</td>\n",
              "      <td>BG</td>\n",
              "      <td>BG</td>\n",
              "      <td>Bulgaria</td>\n",
              "    </tr>\n",
              "    <tr>\n",
              "      <th>4</th>\n",
              "      <td>NaN</td>\n",
              "      <td>43909</td>\n",
              "      <td>41911</td>\n",
              "      <td>40146</td>\n",
              "      <td>42253</td>\n",
              "      <td>42640</td>\n",
              "      <td>43091</td>\n",
              "      <td>38361</td>\n",
              "      <td>37278 b</td>\n",
              "      <td>39783</td>\n",
              "      <td>...</td>\n",
              "      <td>NaN</td>\n",
              "      <td>NaN</td>\n",
              "      <td>NaN</td>\n",
              "      <td>TOTAL</td>\n",
              "      <td>F</td>\n",
              "      <td>MED_E</td>\n",
              "      <td>EUR</td>\n",
              "      <td>CH</td>\n",
              "      <td>CH</td>\n",
              "      <td>Switzerland</td>\n",
              "    </tr>\n",
              "  </tbody>\n",
              "</table>\n",
              "<p>5 rows × 34 columns</p>\n",
              "</div>\n",
              "      <button class=\"colab-df-convert\" onclick=\"convertToInteractive('df-fabdeaa5-e154-4963-b83f-8abcdaa117f8')\"\n",
              "              title=\"Convert this dataframe to an interactive table.\"\n",
              "              style=\"display:none;\">\n",
              "        \n",
              "  <svg xmlns=\"http://www.w3.org/2000/svg\" height=\"24px\"viewBox=\"0 0 24 24\"\n",
              "       width=\"24px\">\n",
              "    <path d=\"M0 0h24v24H0V0z\" fill=\"none\"/>\n",
              "    <path d=\"M18.56 5.44l.94 2.06.94-2.06 2.06-.94-2.06-.94-.94-2.06-.94 2.06-2.06.94zm-11 1L8.5 8.5l.94-2.06 2.06-.94-2.06-.94L8.5 2.5l-.94 2.06-2.06.94zm10 10l.94 2.06.94-2.06 2.06-.94-2.06-.94-.94-2.06-.94 2.06-2.06.94z\"/><path d=\"M17.41 7.96l-1.37-1.37c-.4-.4-.92-.59-1.43-.59-.52 0-1.04.2-1.43.59L10.3 9.45l-7.72 7.72c-.78.78-.78 2.05 0 2.83L4 21.41c.39.39.9.59 1.41.59.51 0 1.02-.2 1.41-.59l7.78-7.78 2.81-2.81c.8-.78.8-2.07 0-2.86zM5.41 20L4 18.59l7.72-7.72 1.47 1.35L5.41 20z\"/>\n",
              "  </svg>\n",
              "      </button>\n",
              "      \n",
              "  <style>\n",
              "    .colab-df-container {\n",
              "      display:flex;\n",
              "      flex-wrap:wrap;\n",
              "      gap: 12px;\n",
              "    }\n",
              "\n",
              "    .colab-df-convert {\n",
              "      background-color: #E8F0FE;\n",
              "      border: none;\n",
              "      border-radius: 50%;\n",
              "      cursor: pointer;\n",
              "      display: none;\n",
              "      fill: #1967D2;\n",
              "      height: 32px;\n",
              "      padding: 0 0 0 0;\n",
              "      width: 32px;\n",
              "    }\n",
              "\n",
              "    .colab-df-convert:hover {\n",
              "      background-color: #E2EBFA;\n",
              "      box-shadow: 0px 1px 2px rgba(60, 64, 67, 0.3), 0px 1px 3px 1px rgba(60, 64, 67, 0.15);\n",
              "      fill: #174EA6;\n",
              "    }\n",
              "\n",
              "    [theme=dark] .colab-df-convert {\n",
              "      background-color: #3B4455;\n",
              "      fill: #D2E3FC;\n",
              "    }\n",
              "\n",
              "    [theme=dark] .colab-df-convert:hover {\n",
              "      background-color: #434B5C;\n",
              "      box-shadow: 0px 1px 3px 1px rgba(0, 0, 0, 0.15);\n",
              "      filter: drop-shadow(0px 1px 2px rgba(0, 0, 0, 0.3));\n",
              "      fill: #FFFFFF;\n",
              "    }\n",
              "  </style>\n",
              "\n",
              "      <script>\n",
              "        const buttonEl =\n",
              "          document.querySelector('#df-fabdeaa5-e154-4963-b83f-8abcdaa117f8 button.colab-df-convert');\n",
              "        buttonEl.style.display =\n",
              "          google.colab.kernel.accessAllowed ? 'block' : 'none';\n",
              "\n",
              "        async function convertToInteractive(key) {\n",
              "          const element = document.querySelector('#df-fabdeaa5-e154-4963-b83f-8abcdaa117f8');\n",
              "          const dataTable =\n",
              "            await google.colab.kernel.invokeFunction('convertToInteractive',\n",
              "                                                     [key], {});\n",
              "          if (!dataTable) return;\n",
              "\n",
              "          const docLinkHtml = 'Like what you see? Visit the ' +\n",
              "            '<a target=\"_blank\" href=https://colab.research.google.com/notebooks/data_table.ipynb>data table notebook</a>'\n",
              "            + ' to learn more about interactive tables.';\n",
              "          element.innerHTML = '';\n",
              "          dataTable['output_type'] = 'display_data';\n",
              "          await google.colab.output.renderOutput(dataTable, element);\n",
              "          const docLink = document.createElement('div');\n",
              "          docLink.innerHTML = docLinkHtml;\n",
              "          element.appendChild(docLink);\n",
              "        }\n",
              "      </script>\n",
              "    </div>\n",
              "  </div>\n",
              "  "
            ]
          },
          "metadata": {},
          "execution_count": 38
        }
      ]
    },
    {
      "cell_type": "markdown",
      "source": [
        "###If I want my comparisons to make sense I should unify my currency units:"
      ],
      "metadata": {
        "id": "4JFtuXWkQjEN"
      }
    },
    {
      "cell_type": "code",
      "source": [
        "mmi = mmi[mmi['unit'] == 'PPS']\n",
        "# mmi = mmi[mmi['income_indicator']=='MED_E']\n"
      ],
      "metadata": {
        "id": "qiT1eTLBQF3B"
      },
      "execution_count": 39,
      "outputs": []
    },
    {
      "cell_type": "code",
      "source": [
        "mmi_2021 = mmi[mmi['2021'].notna()]\n",
        "\n"
      ],
      "metadata": {
        "id": "0iGF60nzFH4T"
      },
      "execution_count": 40,
      "outputs": []
    },
    {
      "cell_type": "code",
      "source": [
        "mmi_filtered = mmi_2021[['gender', '2021', 'country']]\n",
        "mmi_filtered = mmi_filtered[mmi_filtered['gender'].isin(['M', 'F'])]\n"
      ],
      "metadata": {
        "id": "o-ZQmF2UFznE"
      },
      "execution_count": 41,
      "outputs": []
    },
    {
      "cell_type": "code",
      "source": [
        "mmi_filtered.head()"
      ],
      "metadata": {
        "colab": {
          "base_uri": "https://localhost:8080/",
          "height": 206
        },
        "id": "Dewl46JQG_U8",
        "outputId": "621bf996-969d-4bf0-828c-1d5574e5f132"
      },
      "execution_count": 42,
      "outputs": [
        {
          "output_type": "execute_result",
          "data": {
            "text/plain": [
              "   gender    2021      country\n",
              "83      F  24111       Austria\n",
              "84      F  22258       Belgium\n",
              "85      F   9111      Bulgaria\n",
              "86      F  25891   Switzerland\n",
              "87      F  17901        Cyprus"
            ],
            "text/html": [
              "\n",
              "  <div id=\"df-456ca01f-94ab-4649-ab94-d455244ef918\">\n",
              "    <div class=\"colab-df-container\">\n",
              "      <div>\n",
              "<style scoped>\n",
              "    .dataframe tbody tr th:only-of-type {\n",
              "        vertical-align: middle;\n",
              "    }\n",
              "\n",
              "    .dataframe tbody tr th {\n",
              "        vertical-align: top;\n",
              "    }\n",
              "\n",
              "    .dataframe thead th {\n",
              "        text-align: right;\n",
              "    }\n",
              "</style>\n",
              "<table border=\"1\" class=\"dataframe\">\n",
              "  <thead>\n",
              "    <tr style=\"text-align: right;\">\n",
              "      <th></th>\n",
              "      <th>gender</th>\n",
              "      <th>2021</th>\n",
              "      <th>country</th>\n",
              "    </tr>\n",
              "  </thead>\n",
              "  <tbody>\n",
              "    <tr>\n",
              "      <th>83</th>\n",
              "      <td>F</td>\n",
              "      <td>24111</td>\n",
              "      <td>Austria</td>\n",
              "    </tr>\n",
              "    <tr>\n",
              "      <th>84</th>\n",
              "      <td>F</td>\n",
              "      <td>22258</td>\n",
              "      <td>Belgium</td>\n",
              "    </tr>\n",
              "    <tr>\n",
              "      <th>85</th>\n",
              "      <td>F</td>\n",
              "      <td>9111</td>\n",
              "      <td>Bulgaria</td>\n",
              "    </tr>\n",
              "    <tr>\n",
              "      <th>86</th>\n",
              "      <td>F</td>\n",
              "      <td>25891</td>\n",
              "      <td>Switzerland</td>\n",
              "    </tr>\n",
              "    <tr>\n",
              "      <th>87</th>\n",
              "      <td>F</td>\n",
              "      <td>17901</td>\n",
              "      <td>Cyprus</td>\n",
              "    </tr>\n",
              "  </tbody>\n",
              "</table>\n",
              "</div>\n",
              "      <button class=\"colab-df-convert\" onclick=\"convertToInteractive('df-456ca01f-94ab-4649-ab94-d455244ef918')\"\n",
              "              title=\"Convert this dataframe to an interactive table.\"\n",
              "              style=\"display:none;\">\n",
              "        \n",
              "  <svg xmlns=\"http://www.w3.org/2000/svg\" height=\"24px\"viewBox=\"0 0 24 24\"\n",
              "       width=\"24px\">\n",
              "    <path d=\"M0 0h24v24H0V0z\" fill=\"none\"/>\n",
              "    <path d=\"M18.56 5.44l.94 2.06.94-2.06 2.06-.94-2.06-.94-.94-2.06-.94 2.06-2.06.94zm-11 1L8.5 8.5l.94-2.06 2.06-.94-2.06-.94L8.5 2.5l-.94 2.06-2.06.94zm10 10l.94 2.06.94-2.06 2.06-.94-2.06-.94-.94-2.06-.94 2.06-2.06.94z\"/><path d=\"M17.41 7.96l-1.37-1.37c-.4-.4-.92-.59-1.43-.59-.52 0-1.04.2-1.43.59L10.3 9.45l-7.72 7.72c-.78.78-.78 2.05 0 2.83L4 21.41c.39.39.9.59 1.41.59.51 0 1.02-.2 1.41-.59l7.78-7.78 2.81-2.81c.8-.78.8-2.07 0-2.86zM5.41 20L4 18.59l7.72-7.72 1.47 1.35L5.41 20z\"/>\n",
              "  </svg>\n",
              "      </button>\n",
              "      \n",
              "  <style>\n",
              "    .colab-df-container {\n",
              "      display:flex;\n",
              "      flex-wrap:wrap;\n",
              "      gap: 12px;\n",
              "    }\n",
              "\n",
              "    .colab-df-convert {\n",
              "      background-color: #E8F0FE;\n",
              "      border: none;\n",
              "      border-radius: 50%;\n",
              "      cursor: pointer;\n",
              "      display: none;\n",
              "      fill: #1967D2;\n",
              "      height: 32px;\n",
              "      padding: 0 0 0 0;\n",
              "      width: 32px;\n",
              "    }\n",
              "\n",
              "    .colab-df-convert:hover {\n",
              "      background-color: #E2EBFA;\n",
              "      box-shadow: 0px 1px 2px rgba(60, 64, 67, 0.3), 0px 1px 3px 1px rgba(60, 64, 67, 0.15);\n",
              "      fill: #174EA6;\n",
              "    }\n",
              "\n",
              "    [theme=dark] .colab-df-convert {\n",
              "      background-color: #3B4455;\n",
              "      fill: #D2E3FC;\n",
              "    }\n",
              "\n",
              "    [theme=dark] .colab-df-convert:hover {\n",
              "      background-color: #434B5C;\n",
              "      box-shadow: 0px 1px 3px 1px rgba(0, 0, 0, 0.15);\n",
              "      filter: drop-shadow(0px 1px 2px rgba(0, 0, 0, 0.3));\n",
              "      fill: #FFFFFF;\n",
              "    }\n",
              "  </style>\n",
              "\n",
              "      <script>\n",
              "        const buttonEl =\n",
              "          document.querySelector('#df-456ca01f-94ab-4649-ab94-d455244ef918 button.colab-df-convert');\n",
              "        buttonEl.style.display =\n",
              "          google.colab.kernel.accessAllowed ? 'block' : 'none';\n",
              "\n",
              "        async function convertToInteractive(key) {\n",
              "          const element = document.querySelector('#df-456ca01f-94ab-4649-ab94-d455244ef918');\n",
              "          const dataTable =\n",
              "            await google.colab.kernel.invokeFunction('convertToInteractive',\n",
              "                                                     [key], {});\n",
              "          if (!dataTable) return;\n",
              "\n",
              "          const docLinkHtml = 'Like what you see? Visit the ' +\n",
              "            '<a target=\"_blank\" href=https://colab.research.google.com/notebooks/data_table.ipynb>data table notebook</a>'\n",
              "            + ' to learn more about interactive tables.';\n",
              "          element.innerHTML = '';\n",
              "          dataTable['output_type'] = 'display_data';\n",
              "          await google.colab.output.renderOutput(dataTable, element);\n",
              "          const docLink = document.createElement('div');\n",
              "          docLink.innerHTML = docLinkHtml;\n",
              "          element.appendChild(docLink);\n",
              "        }\n",
              "      </script>\n",
              "    </div>\n",
              "  </div>\n",
              "  "
            ]
          },
          "metadata": {},
          "execution_count": 42
        }
      ]
    },
    {
      "cell_type": "markdown",
      "source": [
        "mmi['2021'] = mmi['2021'].replace(':', np.nan)\n",
        "mmi_2022 = mmi.dropna(subset=['2021'])\n"
      ],
      "metadata": {
        "id": "rh4fIfUlHOv-"
      }
    },
    {
      "cell_type": "code",
      "source": [
        "mmi_filtered['2021'] = pd.to_numeric(mmi_filtered['2021'], errors='coerce')\n"
      ],
      "metadata": {
        "id": "B9JDag2OGhRs"
      },
      "execution_count": 43,
      "outputs": []
    },
    {
      "cell_type": "code",
      "source": [
        "grouped_data = mmi_filtered.groupby(['country', 'gender']).mean().reset_index()\n"
      ],
      "metadata": {
        "id": "2cKpq35lH6ic"
      },
      "execution_count": 44,
      "outputs": []
    },
    {
      "cell_type": "code",
      "source": [
        "\n",
        "grouped_data = grouped_data.dropna(subset=['2021'])\n"
      ],
      "metadata": {
        "id": "qckmGCO7WiCw"
      },
      "execution_count": 45,
      "outputs": []
    },
    {
      "cell_type": "code",
      "source": [
        "sns.set_style('whitegrid')\n",
        "plt.figure(figsize=(24, 16)) # set the figure size to 12x8 inches\n",
        "sns.barplot(x='country', y='2021', hue='gender', data=grouped_data)\n",
        "plt.xlabel('Country')\n",
        "plt.ylabel('Mean Income')\n",
        "plt.title('Mean Income by Gender and Country in 2021')\n",
        "plt.show()"
      ],
      "metadata": {
        "colab": {
          "base_uri": "https://localhost:8080/",
          "height": 1000
        },
        "id": "K4nZZcfIF8-L",
        "outputId": "e8fb89b3-271e-4eae-dd6a-6e5e42a74e9a"
      },
      "execution_count": 46,
      "outputs": [
        {
          "output_type": "display_data",
          "data": {
            "text/plain": [
              "<Figure size 2400x1600 with 1 Axes>"
            ],
            "image/png": "[encoded data removed]"
          },
          "metadata": {}
        }
      ]
    }
  ]
}