{
  "nbformat": 4,
  "nbformat_minor": 0,
  "metadata": {
    "colab": {
      "provenance": [],
      "authorship_tag": "ABX9TyNv+rt8mCbqwdzmT7MYTMlq",
      "include_colab_link": true
    },
    "kernelspec": {
      "name": "python3",
      "display_name": "Python 3"
    },
    "language_info": {
      "name": "python"
    }
  },
  "cells": [
    {
      "cell_type": "markdown",
      "metadata": {
        "id": "view-in-github",
        "colab_type": "text"
      },
      "source": [
        "<a href=\"https://colab.research.google.com/github/MaiaPiko/MaiaPiko/blob/main/Red_List.ipynb\" target=\"_parent\"><img src=\"https://colab.research.google.com/assets/colab-badge.svg\" alt=\"Open In Colab\"/></a>"
      ]
    },
    {
      "cell_type": "markdown",
      "source": [
        "Dataset description: \n",
        "Table 6a: number of animal species (kingdom: Animalia) listed in each IUCN Red List Category by country in Europe.\n",
        "\n",
        "Source: https://www.iucnredlist.org/statistics"
      ],
      "metadata": {
        "id": "y5RRWk0xm5Uf"
      }
    },
    {
      "cell_type": "markdown",
      "source": [
        "Here are the descriptions for the columns:\n",
        "\n",
        "EX: Number of Extinct Species\n",
        "\n",
        "EW: Number of Extinct in the Wild Species\n",
        "\n",
        "Subtotal (EX+EW): Total number of Extinct and Extinct in the Wild Species\n",
        "\n",
        "CR: Number of Critically Endangered Species\n",
        "\n",
        "EN: Number of Endangered Species\n",
        "\n",
        "VU: Number of Vulnerable Species\n",
        "\n",
        "NT: Number of Near Threatened Species\n",
        "\n",
        "LC: Number of Least Concern Species\n",
        "\n",
        "DD: Number of Data Deficient Species\n",
        "\n",
        "LR/cd: Number of species listed as Critically Endangered or Endangered in a conservation dependent status.\n",
        "\n",
        "NT or LR/nt: Number of species listed as Near Threatened or Lower Risk/conservation dependent.\n",
        "\n",
        "\n",
        "Note:\n",
        "The original dataset contained the column:EX+EW+ CR(PE)+CR(PEW) which\n",
        "Represents the total number of species that are facing the highest risk of extinction and require urgent conservation action to prevent their loss. - I changed its name to \"HR\" as in \"Highest Risk\" for simplification purposes and to preserve the integrity of the data.\n",
        "\n",
        "Another column that I changed is the 'Subtotal (threatened spp.)' column which refers to the sum total of species that are categorized as threatened according to the IUCN Red List of Threatened Species.\n",
        "\n",
        "\n",
        "The 'Subtotal (threatened spp.)' is often used in reports or analyses to indicate the total number of species that are at risk of extinction and to help prioritize conservation efforts. The IUCN Red List provides a global overview of the conservation status of species, and the 'Subtotal (threatened spp.)' is one of the key indicators used to track progress towards achieving conservation goals. I renamed this column to 'TH' as in 'Threat' or 'Threatened.\n",
        "\n"
      ],
      "metadata": {
        "id": "YbltxNLHqSrn"
      }
    },
    {
      "cell_type": "code",
      "source": [
        "import pandas as pd\n",
        "import matplotlib.pyplot as plt\n",
        "import seaborn as sns\n",
        "import plotly.express as px\n",
        "import numpy as np\n"
      ],
      "metadata": {
        "id": "hgcP9WchndRv"
      },
      "execution_count": null,
      "outputs": []
    },
    {
      "cell_type": "code",
      "source": [
        "df = pd.read_csv('6a-Europe.csv')"
      ],
      "metadata": {
        "id": "2CDypvGdoFVP"
      },
      "execution_count": null,
      "outputs": []
    },
    {
      "cell_type": "markdown",
      "source": [],
      "metadata": {
        "id": "p8ECWfUpmmIA"
      }
    },
    {
      "cell_type": "code",
      "source": [
        "df.head()"
      ],
      "metadata": {
        "colab": {
          "base_uri": "https://localhost:8080/",
          "height": 206
        },
        "id": "EYF7xmz-ocGA",
        "outputId": "1519e0d3-2378-4d7f-bc98-26aa60316d6d"
      },
      "execution_count": null,
      "outputs": [
        {
          "output_type": "execute_result",
          "data": {
            "text/plain": [
              "            Name  EX  EW  EX+EW  CR(PE)  CR(PEW)  HR  CR  EN  VU   TH  LR/cd  \\\n",
              "0  Åland Islands   0   0      0       0        0   0   0   0   0    0      0   \n",
              "1        Albania   1   0      1       0        0   1  24  51  77  152      0   \n",
              "2        Andorra   0   0      0       0        0   0   0   4  10   14      0   \n",
              "3        Austria   3   0      3       4        0   7  27  60  52  139      0   \n",
              "4        Belgium   1   0      1       0        0   1   6  11  37   54      0   \n",
              "\n",
              "   NT or LR/nt  LC or LR/lc  DD  Total  \n",
              "0            0           23   1     24  \n",
              "1           87         1063  73   1376  \n",
              "2           22          323   7    366  \n",
              "3           91          907  69   1209  \n",
              "4           52          754  39    900  "
            ],
            "text/html": [
              "\n",
              "  <div id=\"df-b5527531-f625-4757-8ee4-7f992a39b55c\">\n",
              "    <div class=\"colab-df-container\">\n",
              "      <div>\n",
              "<style scoped>\n",
              "    .dataframe tbody tr th:only-of-type {\n",
              "        vertical-align: middle;\n",
              "    }\n",
              "\n",
              "    .dataframe tbody tr th {\n",
              "        vertical-align: top;\n",
              "    }\n",
              "\n",
              "    .dataframe thead th {\n",
              "        text-align: right;\n",
              "    }\n",
              "</style>\n",
              "<table border=\"1\" class=\"dataframe\">\n",
              "  <thead>\n",
              "    <tr style=\"text-align: right;\">\n",
              "      <th></th>\n",
              "      <th>Name</th>\n",
              "      <th>EX</th>\n",
              "      <th>EW</th>\n",
              "      <th>EX+EW</th>\n",
              "      <th>CR(PE)</th>\n",
              "      <th>CR(PEW)</th>\n",
              "      <th>HR</th>\n",
              "      <th>CR</th>\n",
              "      <th>EN</th>\n",
              "      <th>VU</th>\n",
              "      <th>TH</th>\n",
              "      <th>LR/cd</th>\n",
              "      <th>NT or LR/nt</th>\n",
              "      <th>LC or LR/lc</th>\n",
              "      <th>DD</th>\n",
              "      <th>Total</th>\n",
              "    </tr>\n",
              "  </thead>\n",
              "  <tbody>\n",
              "    <tr>\n",
              "      <th>0</th>\n",
              "      <td>Åland Islands</td>\n",
              "      <td>0</td>\n",
              "      <td>0</td>\n",
              "      <td>0</td>\n",
              "      <td>0</td>\n",
              "      <td>0</td>\n",
              "      <td>0</td>\n",
              "      <td>0</td>\n",
              "      <td>0</td>\n",
              "      <td>0</td>\n",
              "      <td>0</td>\n",
              "      <td>0</td>\n",
              "      <td>0</td>\n",
              "      <td>23</td>\n",
              "      <td>1</td>\n",
              "      <td>24</td>\n",
              "    </tr>\n",
              "    <tr>\n",
              "      <th>1</th>\n",
              "      <td>Albania</td>\n",
              "      <td>1</td>\n",
              "      <td>0</td>\n",
              "      <td>1</td>\n",
              "      <td>0</td>\n",
              "      <td>0</td>\n",
              "      <td>1</td>\n",
              "      <td>24</td>\n",
              "      <td>51</td>\n",
              "      <td>77</td>\n",
              "      <td>152</td>\n",
              "      <td>0</td>\n",
              "      <td>87</td>\n",
              "      <td>1063</td>\n",
              "      <td>73</td>\n",
              "      <td>1376</td>\n",
              "    </tr>\n",
              "    <tr>\n",
              "      <th>2</th>\n",
              "      <td>Andorra</td>\n",
              "      <td>0</td>\n",
              "      <td>0</td>\n",
              "      <td>0</td>\n",
              "      <td>0</td>\n",
              "      <td>0</td>\n",
              "      <td>0</td>\n",
              "      <td>0</td>\n",
              "      <td>4</td>\n",
              "      <td>10</td>\n",
              "      <td>14</td>\n",
              "      <td>0</td>\n",
              "      <td>22</td>\n",
              "      <td>323</td>\n",
              "      <td>7</td>\n",
              "      <td>366</td>\n",
              "    </tr>\n",
              "    <tr>\n",
              "      <th>3</th>\n",
              "      <td>Austria</td>\n",
              "      <td>3</td>\n",
              "      <td>0</td>\n",
              "      <td>3</td>\n",
              "      <td>4</td>\n",
              "      <td>0</td>\n",
              "      <td>7</td>\n",
              "      <td>27</td>\n",
              "      <td>60</td>\n",
              "      <td>52</td>\n",
              "      <td>139</td>\n",
              "      <td>0</td>\n",
              "      <td>91</td>\n",
              "      <td>907</td>\n",
              "      <td>69</td>\n",
              "      <td>1209</td>\n",
              "    </tr>\n",
              "    <tr>\n",
              "      <th>4</th>\n",
              "      <td>Belgium</td>\n",
              "      <td>1</td>\n",
              "      <td>0</td>\n",
              "      <td>1</td>\n",
              "      <td>0</td>\n",
              "      <td>0</td>\n",
              "      <td>1</td>\n",
              "      <td>6</td>\n",
              "      <td>11</td>\n",
              "      <td>37</td>\n",
              "      <td>54</td>\n",
              "      <td>0</td>\n",
              "      <td>52</td>\n",
              "      <td>754</td>\n",
              "      <td>39</td>\n",
              "      <td>900</td>\n",
              "    </tr>\n",
              "  </tbody>\n",
              "</table>\n",
              "</div>\n",
              "      <button class=\"colab-df-convert\" onclick=\"convertToInteractive('df-b5527531-f625-4757-8ee4-7f992a39b55c')\"\n",
              "              title=\"Convert this dataframe to an interactive table.\"\n",
              "              style=\"display:none;\">\n",
              "        \n",
              "  <svg xmlns=\"http://www.w3.org/2000/svg\" height=\"24px\"viewBox=\"0 0 24 24\"\n",
              "       width=\"24px\">\n",
              "    <path d=\"M0 0h24v24H0V0z\" fill=\"none\"/>\n",
              "    <path d=\"M18.56 5.44l.94 2.06.94-2.06 2.06-.94-2.06-.94-.94-2.06-.94 2.06-2.06.94zm-11 1L8.5 8.5l.94-2.06 2.06-.94-2.06-.94L8.5 2.5l-.94 2.06-2.06.94zm10 10l.94 2.06.94-2.06 2.06-.94-2.06-.94-.94-2.06-.94 2.06-2.06.94z\"/><path d=\"M17.41 7.96l-1.37-1.37c-.4-.4-.92-.59-1.43-.59-.52 0-1.04.2-1.43.59L10.3 9.45l-7.72 7.72c-.78.78-.78 2.05 0 2.83L4 21.41c.39.39.9.59 1.41.59.51 0 1.02-.2 1.41-.59l7.78-7.78 2.81-2.81c.8-.78.8-2.07 0-2.86zM5.41 20L4 18.59l7.72-7.72 1.47 1.35L5.41 20z\"/>\n",
              "  </svg>\n",
              "      </button>\n",
              "      \n",
              "  <style>\n",
              "    .colab-df-container {\n",
              "      display:flex;\n",
              "      flex-wrap:wrap;\n",
              "      gap: 12px;\n",
              "    }\n",
              "\n",
              "    .colab-df-convert {\n",
              "      background-color: #E8F0FE;\n",
              "      border: none;\n",
              "      border-radius: 50%;\n",
              "      cursor: pointer;\n",
              "      display: none;\n",
              "      fill: #1967D2;\n",
              "      height: 32px;\n",
              "      padding: 0 0 0 0;\n",
              "      width: 32px;\n",
              "    }\n",
              "\n",
              "    .colab-df-convert:hover {\n",
              "      background-color: #E2EBFA;\n",
              "      box-shadow: 0px 1px 2px rgba(60, 64, 67, 0.3), 0px 1px 3px 1px rgba(60, 64, 67, 0.15);\n",
              "      fill: #174EA6;\n",
              "    }\n",
              "\n",
              "    [theme=dark] .colab-df-convert {\n",
              "      background-color: #3B4455;\n",
              "      fill: #D2E3FC;\n",
              "    }\n",
              "\n",
              "    [theme=dark] .colab-df-convert:hover {\n",
              "      background-color: #434B5C;\n",
              "      box-shadow: 0px 1px 3px 1px rgba(0, 0, 0, 0.15);\n",
              "      filter: drop-shadow(0px 1px 2px rgba(0, 0, 0, 0.3));\n",
              "      fill: #FFFFFF;\n",
              "    }\n",
              "  </style>\n",
              "\n",
              "      <script>\n",
              "        const buttonEl =\n",
              "          document.querySelector('#df-b5527531-f625-4757-8ee4-7f992a39b55c button.colab-df-convert');\n",
              "        buttonEl.style.display =\n",
              "          google.colab.kernel.accessAllowed ? 'block' : 'none';\n",
              "\n",
              "        async function convertToInteractive(key) {\n",
              "          const element = document.querySelector('#df-b5527531-f625-4757-8ee4-7f992a39b55c');\n",
              "          const dataTable =\n",
              "            await google.colab.kernel.invokeFunction('convertToInteractive',\n",
              "                                                     [key], {});\n",
              "          if (!dataTable) return;\n",
              "\n",
              "          const docLinkHtml = 'Like what you see? Visit the ' +\n",
              "            '<a target=\"_blank\" href=https://colab.research.google.com/notebooks/data_table.ipynb>data table notebook</a>'\n",
              "            + ' to learn more about interactive tables.';\n",
              "          element.innerHTML = '';\n",
              "          dataTable['output_type'] = 'display_data';\n",
              "          await google.colab.output.renderOutput(dataTable, element);\n",
              "          const docLink = document.createElement('div');\n",
              "          docLink.innerHTML = docLinkHtml;\n",
              "          element.appendChild(docLink);\n",
              "        }\n",
              "      </script>\n",
              "    </div>\n",
              "  </div>\n",
              "  "
            ]
          },
          "metadata": {},
          "execution_count": 212
        }
      ]
    },
    {
      "cell_type": "code",
      "source": [
        "df.shape"
      ],
      "metadata": {
        "colab": {
          "base_uri": "https://localhost:8080/"
        },
        "id": "aO5KxH1Ooe_o",
        "outputId": "f1900914-c279-463b-dd8e-f6363f443040"
      },
      "execution_count": null,
      "outputs": [
        {
          "output_type": "execute_result",
          "data": {
            "text/plain": [
              "(48, 16)"
            ]
          },
          "metadata": {},
          "execution_count": 213
        }
      ]
    },
    {
      "cell_type": "code",
      "source": [
        "df.columns"
      ],
      "metadata": {
        "colab": {
          "base_uri": "https://localhost:8080/"
        },
        "outputId": "fcc68eba-d1a6-46c7-dbd1-7aba93eae9cd",
        "id": "zd8OENWKGhRk"
      },
      "execution_count": null,
      "outputs": [
        {
          "output_type": "execute_result",
          "data": {
            "text/plain": [
              "Index(['Name', 'EX', 'EW', 'EX+EW', 'CR(PE)', 'CR(PEW)', 'HR', 'CR', 'EN',\n",
              "       'VU', 'TH', 'LR/cd', 'NT or LR/nt', 'LC or LR/lc', 'DD', 'Total'],\n",
              "      dtype='object')"
            ]
          },
          "metadata": {},
          "execution_count": 214
        }
      ]
    },
    {
      "cell_type": "markdown",
      "source": [
        "About the data:\n",
        "The column EX+EW+ CR(PE)+CR(PEW) :\n",
        "Represents the total number of species that are facing the highest risk of extinction and require urgent conservation action to prevent their loss. - I will change its name to \"HR\" as in \"Highest Risk\".\n",
        "\n",
        "The column 'Subtotal (threatened spp.)' refers to the sum total of species that are categorized as threatened according to the IUCN Red List of Threatened Species.\n",
        "\n",
        "\n",
        "The 'Subtotal (threatened spp.)' is often used in reports or analyses to indicate the total number of species that are at risk of extinction and to help prioritize conservation efforts. The IUCN Red List provides a global overview of the conservation status of species, and the 'Subtotal (threatened spp.)' is one of the key indicators used to track progress towards achieving conservation goals. I will rename this column to 'TH' as in 'Threat' or 'Threatened."
      ],
      "metadata": {
        "id": "q1FhdNs9Cy-Y"
      }
    },
    {
      "cell_type": "code",
      "source": [
        "df.tail()"
      ],
      "metadata": {
        "colab": {
          "base_uri": "https://localhost:8080/",
          "height": 206
        },
        "id": "RhX_kQV8pB6P",
        "outputId": "ea2108d4-cf5b-4fd9-b3bc-22fe1c712948"
      },
      "execution_count": null,
      "outputs": [
        {
          "output_type": "execute_result",
          "data": {
            "text/plain": [
              "                      Name  EX  EW  EX+EW  CR(PE)  CR(PEW)  HR  CR   EN   VU  \\\n",
              "43                   Spain   2   0      2      11        0  13  86  183  248   \n",
              "44  Svalbard and Jan Mayen   0   0      0       0        0   0   0    2   11   \n",
              "45                  Sweden   0   0      0       0        0   0   6    9   42   \n",
              "46             Switzerland   6   0      6       0        0   6   6   45   57   \n",
              "47          United Kingdom   3   0      3       2        0   5  19   21   67   \n",
              "\n",
              "     TH  LR/cd  NT or LR/nt  LC or LR/lc   DD  Total  \n",
              "43  517      0          288         2233  485   3525  \n",
              "44   13      0            8           76    3    100  \n",
              "45   57      0           60          728   32    877  \n",
              "46  108      0           80          846   60   1100  \n",
              "47  107      0           66         1032   65   1273  "
            ],
            "text/html": [
              "\n",
              "  <div id=\"df-21eedfec-bbb3-4494-b933-54bef87862c7\">\n",
              "    <div class=\"colab-df-container\">\n",
              "      <div>\n",
              "<style scoped>\n",
              "    .dataframe tbody tr th:only-of-type {\n",
              "        vertical-align: middle;\n",
              "    }\n",
              "\n",
              "    .dataframe tbody tr th {\n",
              "        vertical-align: top;\n",
              "    }\n",
              "\n",
              "    .dataframe thead th {\n",
              "        text-align: right;\n",
              "    }\n",
              "</style>\n",
              "<table border=\"1\" class=\"dataframe\">\n",
              "  <thead>\n",
              "    <tr style=\"text-align: right;\">\n",
              "      <th></th>\n",
              "      <th>Name</th>\n",
              "      <th>EX</th>\n",
              "      <th>EW</th>\n",
              "      <th>EX+EW</th>\n",
              "      <th>CR(PE)</th>\n",
              "      <th>CR(PEW)</th>\n",
              "      <th>HR</th>\n",
              "      <th>CR</th>\n",
              "      <th>EN</th>\n",
              "      <th>VU</th>\n",
              "      <th>TH</th>\n",
              "      <th>LR/cd</th>\n",
              "      <th>NT or LR/nt</th>\n",
              "      <th>LC or LR/lc</th>\n",
              "      <th>DD</th>\n",
              "      <th>Total</th>\n",
              "    </tr>\n",
              "  </thead>\n",
              "  <tbody>\n",
              "    <tr>\n",
              "      <th>43</th>\n",
              "      <td>Spain</td>\n",
              "      <td>2</td>\n",
              "      <td>0</td>\n",
              "      <td>2</td>\n",
              "      <td>11</td>\n",
              "      <td>0</td>\n",
              "      <td>13</td>\n",
              "      <td>86</td>\n",
              "      <td>183</td>\n",
              "      <td>248</td>\n",
              "      <td>517</td>\n",
              "      <td>0</td>\n",
              "      <td>288</td>\n",
              "      <td>2233</td>\n",
              "      <td>485</td>\n",
              "      <td>3525</td>\n",
              "    </tr>\n",
              "    <tr>\n",
              "      <th>44</th>\n",
              "      <td>Svalbard and Jan Mayen</td>\n",
              "      <td>0</td>\n",
              "      <td>0</td>\n",
              "      <td>0</td>\n",
              "      <td>0</td>\n",
              "      <td>0</td>\n",
              "      <td>0</td>\n",
              "      <td>0</td>\n",
              "      <td>2</td>\n",
              "      <td>11</td>\n",
              "      <td>13</td>\n",
              "      <td>0</td>\n",
              "      <td>8</td>\n",
              "      <td>76</td>\n",
              "      <td>3</td>\n",
              "      <td>100</td>\n",
              "    </tr>\n",
              "    <tr>\n",
              "      <th>45</th>\n",
              "      <td>Sweden</td>\n",
              "      <td>0</td>\n",
              "      <td>0</td>\n",
              "      <td>0</td>\n",
              "      <td>0</td>\n",
              "      <td>0</td>\n",
              "      <td>0</td>\n",
              "      <td>6</td>\n",
              "      <td>9</td>\n",
              "      <td>42</td>\n",
              "      <td>57</td>\n",
              "      <td>0</td>\n",
              "      <td>60</td>\n",
              "      <td>728</td>\n",
              "      <td>32</td>\n",
              "      <td>877</td>\n",
              "    </tr>\n",
              "    <tr>\n",
              "      <th>46</th>\n",
              "      <td>Switzerland</td>\n",
              "      <td>6</td>\n",
              "      <td>0</td>\n",
              "      <td>6</td>\n",
              "      <td>0</td>\n",
              "      <td>0</td>\n",
              "      <td>6</td>\n",
              "      <td>6</td>\n",
              "      <td>45</td>\n",
              "      <td>57</td>\n",
              "      <td>108</td>\n",
              "      <td>0</td>\n",
              "      <td>80</td>\n",
              "      <td>846</td>\n",
              "      <td>60</td>\n",
              "      <td>1100</td>\n",
              "    </tr>\n",
              "    <tr>\n",
              "      <th>47</th>\n",
              "      <td>United Kingdom</td>\n",
              "      <td>3</td>\n",
              "      <td>0</td>\n",
              "      <td>3</td>\n",
              "      <td>2</td>\n",
              "      <td>0</td>\n",
              "      <td>5</td>\n",
              "      <td>19</td>\n",
              "      <td>21</td>\n",
              "      <td>67</td>\n",
              "      <td>107</td>\n",
              "      <td>0</td>\n",
              "      <td>66</td>\n",
              "      <td>1032</td>\n",
              "      <td>65</td>\n",
              "      <td>1273</td>\n",
              "    </tr>\n",
              "  </tbody>\n",
              "</table>\n",
              "</div>\n",
              "      <button class=\"colab-df-convert\" onclick=\"convertToInteractive('df-21eedfec-bbb3-4494-b933-54bef87862c7')\"\n",
              "              title=\"Convert this dataframe to an interactive table.\"\n",
              "              style=\"display:none;\">\n",
              "        \n",
              "  <svg xmlns=\"http://www.w3.org/2000/svg\" height=\"24px\"viewBox=\"0 0 24 24\"\n",
              "       width=\"24px\">\n",
              "    <path d=\"M0 0h24v24H0V0z\" fill=\"none\"/>\n",
              "    <path d=\"M18.56 5.44l.94 2.06.94-2.06 2.06-.94-2.06-.94-.94-2.06-.94 2.06-2.06.94zm-11 1L8.5 8.5l.94-2.06 2.06-.94-2.06-.94L8.5 2.5l-.94 2.06-2.06.94zm10 10l.94 2.06.94-2.06 2.06-.94-2.06-.94-.94-2.06-.94 2.06-2.06.94z\"/><path d=\"M17.41 7.96l-1.37-1.37c-.4-.4-.92-.59-1.43-.59-.52 0-1.04.2-1.43.59L10.3 9.45l-7.72 7.72c-.78.78-.78 2.05 0 2.83L4 21.41c.39.39.9.59 1.41.59.51 0 1.02-.2 1.41-.59l7.78-7.78 2.81-2.81c.8-.78.8-2.07 0-2.86zM5.41 20L4 18.59l7.72-7.72 1.47 1.35L5.41 20z\"/>\n",
              "  </svg>\n",
              "      </button>\n",
              "      \n",
              "  <style>\n",
              "    .colab-df-container {\n",
              "      display:flex;\n",
              "      flex-wrap:wrap;\n",
              "      gap: 12px;\n",
              "    }\n",
              "\n",
              "    .colab-df-convert {\n",
              "      background-color: #E8F0FE;\n",
              "      border: none;\n",
              "      border-radius: 50%;\n",
              "      cursor: pointer;\n",
              "      display: none;\n",
              "      fill: #1967D2;\n",
              "      height: 32px;\n",
              "      padding: 0 0 0 0;\n",
              "      width: 32px;\n",
              "    }\n",
              "\n",
              "    .colab-df-convert:hover {\n",
              "      background-color: #E2EBFA;\n",
              "      box-shadow: 0px 1px 2px rgba(60, 64, 67, 0.3), 0px 1px 3px 1px rgba(60, 64, 67, 0.15);\n",
              "      fill: #174EA6;\n",
              "    }\n",
              "\n",
              "    [theme=dark] .colab-df-convert {\n",
              "      background-color: #3B4455;\n",
              "      fill: #D2E3FC;\n",
              "    }\n",
              "\n",
              "    [theme=dark] .colab-df-convert:hover {\n",
              "      background-color: #434B5C;\n",
              "      box-shadow: 0px 1px 3px 1px rgba(0, 0, 0, 0.15);\n",
              "      filter: drop-shadow(0px 1px 2px rgba(0, 0, 0, 0.3));\n",
              "      fill: #FFFFFF;\n",
              "    }\n",
              "  </style>\n",
              "\n",
              "      <script>\n",
              "        const buttonEl =\n",
              "          document.querySelector('#df-21eedfec-bbb3-4494-b933-54bef87862c7 button.colab-df-convert');\n",
              "        buttonEl.style.display =\n",
              "          google.colab.kernel.accessAllowed ? 'block' : 'none';\n",
              "\n",
              "        async function convertToInteractive(key) {\n",
              "          const element = document.querySelector('#df-21eedfec-bbb3-4494-b933-54bef87862c7');\n",
              "          const dataTable =\n",
              "            await google.colab.kernel.invokeFunction('convertToInteractive',\n",
              "                                                     [key], {});\n",
              "          if (!dataTable) return;\n",
              "\n",
              "          const docLinkHtml = 'Like what you see? Visit the ' +\n",
              "            '<a target=\"_blank\" href=https://colab.research.google.com/notebooks/data_table.ipynb>data table notebook</a>'\n",
              "            + ' to learn more about interactive tables.';\n",
              "          element.innerHTML = '';\n",
              "          dataTable['output_type'] = 'display_data';\n",
              "          await google.colab.output.renderOutput(dataTable, element);\n",
              "          const docLink = document.createElement('div');\n",
              "          docLink.innerHTML = docLinkHtml;\n",
              "          element.appendChild(docLink);\n",
              "        }\n",
              "      </script>\n",
              "    </div>\n",
              "  </div>\n",
              "  "
            ]
          },
          "metadata": {},
          "execution_count": 215
        }
      ]
    },
    {
      "cell_type": "markdown",
      "source": [
        "Our data is clean. There are no \"Na\" values."
      ],
      "metadata": {
        "id": "qv24HnhkpczO"
      }
    },
    {
      "cell_type": "code",
      "source": [
        "df.isna().sum()"
      ],
      "metadata": {
        "colab": {
          "base_uri": "https://localhost:8080/"
        },
        "id": "_jLV7QXtp089",
        "outputId": "444f4f87-2139-46ed-c62c-4afec3b6e86a"
      },
      "execution_count": null,
      "outputs": [
        {
          "output_type": "execute_result",
          "data": {
            "text/plain": [
              "Name           0\n",
              "EX             0\n",
              "EW             0\n",
              "EX+EW          0\n",
              "CR(PE)         0\n",
              "CR(PEW)        0\n",
              "HR             0\n",
              "CR             0\n",
              "EN             0\n",
              "VU             0\n",
              "TH             0\n",
              "LR/cd          0\n",
              "NT or LR/nt    0\n",
              "LC or LR/lc    0\n",
              "DD             0\n",
              "Total          0\n",
              "dtype: int64"
            ]
          },
          "metadata": {},
          "execution_count": 216
        }
      ]
    },
    {
      "cell_type": "code",
      "source": [
        "df.rename(columns={'LC or LR/lc': 'LC'}, inplace=True)  # rename the column\n",
        "df['LC'] = pd.to_numeric(df['LC'], errors='coerce')  # convert the column back to numeric data type\n"
      ],
      "metadata": {
        "id": "uJClobIAp_pG"
      },
      "execution_count": null,
      "outputs": []
    },
    {
      "cell_type": "code",
      "source": [
        "df.rename(columns = {'NT or LR/nt':'NT'}, inplace=True)  # rename the column\n",
        "df['NT'] = pd.to_numeric(df['NT'], errors='coerce')"
      ],
      "metadata": {
        "id": "U1GTuEMJuNNW"
      },
      "execution_count": null,
      "outputs": []
    },
    {
      "cell_type": "code",
      "source": [
        "df.columns"
      ],
      "metadata": {
        "colab": {
          "base_uri": "https://localhost:8080/"
        },
        "id": "_8a9DNg_xg7N",
        "outputId": "c798a1cb-a5e5-4948-cefe-3baf5dcb9b60"
      },
      "execution_count": null,
      "outputs": [
        {
          "output_type": "execute_result",
          "data": {
            "text/plain": [
              "Index(['Name', 'EX', 'EW', 'EX+EW', 'CR(PE)', 'CR(PEW)', 'HR', 'CR', 'EN',\n",
              "       'VU', 'TH', 'LR/cd', 'NT', 'LC', 'DD', 'Total'],\n",
              "      dtype='object')"
            ]
          },
          "metadata": {},
          "execution_count": 219
        }
      ]
    },
    {
      "cell_type": "code",
      "source": [
        "f\"The country with the highest number of extinct species is {df.Name.loc[df.EX.idxmax()]}, the number of extint species there is {df.EX.max()}\""
      ],
      "metadata": {
        "colab": {
          "base_uri": "https://localhost:8080/",
          "height": 35
        },
        "id": "V-oKhxmVrAyf",
        "outputId": "4d1ebbbb-b314-4b4b-9c03-db314cf286c4"
      },
      "execution_count": null,
      "outputs": [
        {
          "output_type": "execute_result",
          "data": {
            "text/plain": [
              "'The country with the highest number of extinct species is France, the number of extint species there is 8'"
            ],
            "application/vnd.google.colaboratory.intrinsic+json": {
              "type": "string"
            }
          },
          "metadata": {},
          "execution_count": 220
        }
      ]
    },
    {
      "cell_type": "code",
      "source": [
        "f\"The country with the highest number of critically endangered species is {df.Name.loc[df.CR.idxmax()]}, the number of critically endangered species there is {df.CR.max()}\""
      ],
      "metadata": {
        "colab": {
          "base_uri": "https://localhost:8080/",
          "height": 35
        },
        "id": "vEbbhU4SqrDv",
        "outputId": "7f75c211-a552-4492-8138-738a7b9ea0b8"
      },
      "execution_count": null,
      "outputs": [
        {
          "output_type": "execute_result",
          "data": {
            "text/plain": [
              "'The country with the highest number of critically endangered species is Portugal, the number of critically endangered species there is 114'"
            ],
            "application/vnd.google.colaboratory.intrinsic+json": {
              "type": "string"
            }
          },
          "metadata": {},
          "execution_count": 221
        }
      ]
    },
    {
      "cell_type": "markdown",
      "source": [
        "**I guess Europe does not really have animals exitinct in the wild?**\n",
        "\n",
        "\n",
        "\n"
      ],
      "metadata": {
        "id": "XDi0-acRyA1g"
      }
    },
    {
      "cell_type": "code",
      "source": [
        "f\"The country with the highest number of species extinct in the wild is {df.Name.loc[df.EW.idxmax()]}, the number of species extinct in the wild there is {df.EW.max()}\""
      ],
      "metadata": {
        "colab": {
          "base_uri": "https://localhost:8080/",
          "height": 35
        },
        "id": "b6fvgvwvsJxQ",
        "outputId": "00d0480e-08d8-44ab-ab10-7ccb4705f047"
      },
      "execution_count": null,
      "outputs": [
        {
          "output_type": "execute_result",
          "data": {
            "text/plain": [
              "'The country with the highest number of species extinct in the wild is Åland Islands, the number of species extinct in the wild there is 0'"
            ],
            "application/vnd.google.colaboratory.intrinsic+json": {
              "type": "string"
            }
          },
          "metadata": {},
          "execution_count": 222
        }
      ]
    },
    {
      "cell_type": "markdown",
      "source": [
        "**Good job Aland Islands**"
      ],
      "metadata": {
        "id": "AKhjVB082Ez0"
      }
    },
    {
      "cell_type": "code",
      "source": [
        "f\"The country with the highest number of Least Concern Species is {df.Name.loc[df.LC.idxmin()]}, the number of Least Concern Species there is {df.LC.min()}\"\n"
      ],
      "metadata": {
        "colab": {
          "base_uri": "https://localhost:8080/",
          "height": 35
        },
        "id": "6MCApRbTtK6X",
        "outputId": "fbc8e969-f45c-494d-d468-57336e064fad"
      },
      "execution_count": null,
      "outputs": [
        {
          "output_type": "execute_result",
          "data": {
            "text/plain": [
              "'The country with the highest number of Least Concern Species is Åland Islands, the number of Least Concern Species there is 23'"
            ],
            "application/vnd.google.colaboratory.intrinsic+json": {
              "type": "string"
            }
          },
          "metadata": {},
          "execution_count": 223
        }
      ]
    },
    {
      "cell_type": "markdown",
      "source": [
        "**I hope spain does something about this. :(**"
      ],
      "metadata": {
        "id": "ScPwTzEoywrs"
      }
    },
    {
      "cell_type": "code",
      "source": [
        "f\"The country with the highest number of near extinct species is {df.Name.loc[df.NT.idxmax()]}, the number of near extinct species there is {df.NT.max()}\"\n"
      ],
      "metadata": {
        "colab": {
          "base_uri": "https://localhost:8080/",
          "height": 35
        },
        "id": "gO-PLSq5yVbZ",
        "outputId": "9f81f898-fb67-4dc7-862f-9b91e758200f"
      },
      "execution_count": null,
      "outputs": [
        {
          "output_type": "execute_result",
          "data": {
            "text/plain": [
              "'The country with the highest number of near extinct species is Spain, the number of near extinct species there is 288'"
            ],
            "application/vnd.google.colaboratory.intrinsic+json": {
              "type": "string"
            }
          },
          "metadata": {},
          "execution_count": 224
        }
      ]
    },
    {
      "cell_type": "code",
      "source": [
        "df.head()"
      ],
      "metadata": {
        "colab": {
          "base_uri": "https://localhost:8080/",
          "height": 206
        },
        "id": "lm5L7hPE0nzI",
        "outputId": "b7e23542-99f0-4c3e-d80e-6f3db538af48"
      },
      "execution_count": null,
      "outputs": [
        {
          "output_type": "execute_result",
          "data": {
            "text/plain": [
              "            Name  EX  EW  EX+EW  CR(PE)  CR(PEW)  HR  CR  EN  VU   TH  LR/cd  \\\n",
              "0  Åland Islands   0   0      0       0        0   0   0   0   0    0      0   \n",
              "1        Albania   1   0      1       0        0   1  24  51  77  152      0   \n",
              "2        Andorra   0   0      0       0        0   0   0   4  10   14      0   \n",
              "3        Austria   3   0      3       4        0   7  27  60  52  139      0   \n",
              "4        Belgium   1   0      1       0        0   1   6  11  37   54      0   \n",
              "\n",
              "   NT    LC  DD  Total  \n",
              "0   0    23   1     24  \n",
              "1  87  1063  73   1376  \n",
              "2  22   323   7    366  \n",
              "3  91   907  69   1209  \n",
              "4  52   754  39    900  "
            ],
            "text/html": [
              "\n",
              "  <div id=\"df-967d0223-7c47-44a1-b1fe-e621fe1598e3\">\n",
              "    <div class=\"colab-df-container\">\n",
              "      <div>\n",
              "<style scoped>\n",
              "    .dataframe tbody tr th:only-of-type {\n",
              "        vertical-align: middle;\n",
              "    }\n",
              "\n",
              "    .dataframe tbody tr th {\n",
              "        vertical-align: top;\n",
              "    }\n",
              "\n",
              "    .dataframe thead th {\n",
              "        text-align: right;\n",
              "    }\n",
              "</style>\n",
              "<table border=\"1\" class=\"dataframe\">\n",
              "  <thead>\n",
              "    <tr style=\"text-align: right;\">\n",
              "      <th></th>\n",
              "      <th>Name</th>\n",
              "      <th>EX</th>\n",
              "      <th>EW</th>\n",
              "      <th>EX+EW</th>\n",
              "      <th>CR(PE)</th>\n",
              "      <th>CR(PEW)</th>\n",
              "      <th>HR</th>\n",
              "      <th>CR</th>\n",
              "      <th>EN</th>\n",
              "      <th>VU</th>\n",
              "      <th>TH</th>\n",
              "      <th>LR/cd</th>\n",
              "      <th>NT</th>\n",
              "      <th>LC</th>\n",
              "      <th>DD</th>\n",
              "      <th>Total</th>\n",
              "    </tr>\n",
              "  </thead>\n",
              "  <tbody>\n",
              "    <tr>\n",
              "      <th>0</th>\n",
              "      <td>Åland Islands</td>\n",
              "      <td>0</td>\n",
              "      <td>0</td>\n",
              "      <td>0</td>\n",
              "      <td>0</td>\n",
              "      <td>0</td>\n",
              "      <td>0</td>\n",
              "      <td>0</td>\n",
              "      <td>0</td>\n",
              "      <td>0</td>\n",
              "      <td>0</td>\n",
              "      <td>0</td>\n",
              "      <td>0</td>\n",
              "      <td>23</td>\n",
              "      <td>1</td>\n",
              "      <td>24</td>\n",
              "    </tr>\n",
              "    <tr>\n",
              "      <th>1</th>\n",
              "      <td>Albania</td>\n",
              "      <td>1</td>\n",
              "      <td>0</td>\n",
              "      <td>1</td>\n",
              "      <td>0</td>\n",
              "      <td>0</td>\n",
              "      <td>1</td>\n",
              "      <td>24</td>\n",
              "      <td>51</td>\n",
              "      <td>77</td>\n",
              "      <td>152</td>\n",
              "      <td>0</td>\n",
              "      <td>87</td>\n",
              "      <td>1063</td>\n",
              "      <td>73</td>\n",
              "      <td>1376</td>\n",
              "    </tr>\n",
              "    <tr>\n",
              "      <th>2</th>\n",
              "      <td>Andorra</td>\n",
              "      <td>0</td>\n",
              "      <td>0</td>\n",
              "      <td>0</td>\n",
              "      <td>0</td>\n",
              "      <td>0</td>\n",
              "      <td>0</td>\n",
              "      <td>0</td>\n",
              "      <td>4</td>\n",
              "      <td>10</td>\n",
              "      <td>14</td>\n",
              "      <td>0</td>\n",
              "      <td>22</td>\n",
              "      <td>323</td>\n",
              "      <td>7</td>\n",
              "      <td>366</td>\n",
              "    </tr>\n",
              "    <tr>\n",
              "      <th>3</th>\n",
              "      <td>Austria</td>\n",
              "      <td>3</td>\n",
              "      <td>0</td>\n",
              "      <td>3</td>\n",
              "      <td>4</td>\n",
              "      <td>0</td>\n",
              "      <td>7</td>\n",
              "      <td>27</td>\n",
              "      <td>60</td>\n",
              "      <td>52</td>\n",
              "      <td>139</td>\n",
              "      <td>0</td>\n",
              "      <td>91</td>\n",
              "      <td>907</td>\n",
              "      <td>69</td>\n",
              "      <td>1209</td>\n",
              "    </tr>\n",
              "    <tr>\n",
              "      <th>4</th>\n",
              "      <td>Belgium</td>\n",
              "      <td>1</td>\n",
              "      <td>0</td>\n",
              "      <td>1</td>\n",
              "      <td>0</td>\n",
              "      <td>0</td>\n",
              "      <td>1</td>\n",
              "      <td>6</td>\n",
              "      <td>11</td>\n",
              "      <td>37</td>\n",
              "      <td>54</td>\n",
              "      <td>0</td>\n",
              "      <td>52</td>\n",
              "      <td>754</td>\n",
              "      <td>39</td>\n",
              "      <td>900</td>\n",
              "    </tr>\n",
              "  </tbody>\n",
              "</table>\n",
              "</div>\n",
              "      <button class=\"colab-df-convert\" onclick=\"convertToInteractive('df-967d0223-7c47-44a1-b1fe-e621fe1598e3')\"\n",
              "              title=\"Convert this dataframe to an interactive table.\"\n",
              "              style=\"display:none;\">\n",
              "        \n",
              "  <svg xmlns=\"http://www.w3.org/2000/svg\" height=\"24px\"viewBox=\"0 0 24 24\"\n",
              "       width=\"24px\">\n",
              "    <path d=\"M0 0h24v24H0V0z\" fill=\"none\"/>\n",
              "    <path d=\"M18.56 5.44l.94 2.06.94-2.06 2.06-.94-2.06-.94-.94-2.06-.94 2.06-2.06.94zm-11 1L8.5 8.5l.94-2.06 2.06-.94-2.06-.94L8.5 2.5l-.94 2.06-2.06.94zm10 10l.94 2.06.94-2.06 2.06-.94-2.06-.94-.94-2.06-.94 2.06-2.06.94z\"/><path d=\"M17.41 7.96l-1.37-1.37c-.4-.4-.92-.59-1.43-.59-.52 0-1.04.2-1.43.59L10.3 9.45l-7.72 7.72c-.78.78-.78 2.05 0 2.83L4 21.41c.39.39.9.59 1.41.59.51 0 1.02-.2 1.41-.59l7.78-7.78 2.81-2.81c.8-.78.8-2.07 0-2.86zM5.41 20L4 18.59l7.72-7.72 1.47 1.35L5.41 20z\"/>\n",
              "  </svg>\n",
              "      </button>\n",
              "      \n",
              "  <style>\n",
              "    .colab-df-container {\n",
              "      display:flex;\n",
              "      flex-wrap:wrap;\n",
              "      gap: 12px;\n",
              "    }\n",
              "\n",
              "    .colab-df-convert {\n",
              "      background-color: #E8F0FE;\n",
              "      border: none;\n",
              "      border-radius: 50%;\n",
              "      cursor: pointer;\n",
              "      display: none;\n",
              "      fill: #1967D2;\n",
              "      height: 32px;\n",
              "      padding: 0 0 0 0;\n",
              "      width: 32px;\n",
              "    }\n",
              "\n",
              "    .colab-df-convert:hover {\n",
              "      background-color: #E2EBFA;\n",
              "      box-shadow: 0px 1px 2px rgba(60, 64, 67, 0.3), 0px 1px 3px 1px rgba(60, 64, 67, 0.15);\n",
              "      fill: #174EA6;\n",
              "    }\n",
              "\n",
              "    [theme=dark] .colab-df-convert {\n",
              "      background-color: #3B4455;\n",
              "      fill: #D2E3FC;\n",
              "    }\n",
              "\n",
              "    [theme=dark] .colab-df-convert:hover {\n",
              "      background-color: #434B5C;\n",
              "      box-shadow: 0px 1px 3px 1px rgba(0, 0, 0, 0.15);\n",
              "      filter: drop-shadow(0px 1px 2px rgba(0, 0, 0, 0.3));\n",
              "      fill: #FFFFFF;\n",
              "    }\n",
              "  </style>\n",
              "\n",
              "      <script>\n",
              "        const buttonEl =\n",
              "          document.querySelector('#df-967d0223-7c47-44a1-b1fe-e621fe1598e3 button.colab-df-convert');\n",
              "        buttonEl.style.display =\n",
              "          google.colab.kernel.accessAllowed ? 'block' : 'none';\n",
              "\n",
              "        async function convertToInteractive(key) {\n",
              "          const element = document.querySelector('#df-967d0223-7c47-44a1-b1fe-e621fe1598e3');\n",
              "          const dataTable =\n",
              "            await google.colab.kernel.invokeFunction('convertToInteractive',\n",
              "                                                     [key], {});\n",
              "          if (!dataTable) return;\n",
              "\n",
              "          const docLinkHtml = 'Like what you see? Visit the ' +\n",
              "            '<a target=\"_blank\" href=https://colab.research.google.com/notebooks/data_table.ipynb>data table notebook</a>'\n",
              "            + ' to learn more about interactive tables.';\n",
              "          element.innerHTML = '';\n",
              "          dataTable['output_type'] = 'display_data';\n",
              "          await google.colab.output.renderOutput(dataTable, element);\n",
              "          const docLink = document.createElement('div');\n",
              "          docLink.innerHTML = docLinkHtml;\n",
              "          element.appendChild(docLink);\n",
              "        }\n",
              "      </script>\n",
              "    </div>\n",
              "  </div>\n",
              "  "
            ]
          },
          "metadata": {},
          "execution_count": 225
        }
      ]
    },
    {
      "cell_type": "code",
      "source": [
        "TH_Descending = df.sort_values('TH', ascending = False)"
      ],
      "metadata": {
        "id": "EMn5g5aDHWcn"
      },
      "execution_count": null,
      "outputs": []
    },
    {
      "cell_type": "code",
      "source": [
        "ax1 = plt.gca() # get current axes\n",
        "ax2 = ax1.twinx() \n",
        "# plt.figure(figsize=(16,10)) \n",
        "\n",
        "\n",
        "ax1.plot(TH_Descending.Name, TH_Descending['TH'], color='#880808', marker=\"<\")\n",
        "ax2.plot(TH_Descending.Name, TH_Descending['LC'], color='green', marker=\">\", linestyle=\"--\")\n",
        "\n",
        "# Set x-axis tick positions and labels\n",
        "ax1.set_xticks(range(len(TH_Descending.Name)))\n",
        "ax1.set_xticklabels(TH_Descending.Name, fontsize=11, rotation=90)\n",
        "\n",
        "\n",
        "# Set axis labels\n",
        "ax1.set_xlabel(\"Country\")\n",
        "ax1.set_ylabel(\"Threatened Animals\", color='#880808', rotation =90)\n",
        "ax2.set_ylabel(\"Least Concern\", color='green')\n",
        "\n",
        "ax1.grid(which='major', axis='x', linestyle='--', color='#D3D3D3')\n",
        "\n",
        "# Increase figure size\n",
        "fig = plt.gcf()\n",
        "fig.set_size_inches(16, 10)\n",
        "plt.show()"
      ],
      "metadata": {
        "colab": {
          "base_uri": "https://localhost:8080/",
          "height": 755
        },
        "id": "MjrovnjaEhxy",
        "outputId": "132371e7-510a-40cf-e27d-c1c5975de2eb"
      },
      "execution_count": null,
      "outputs": [
        {
          "output_type": "display_data",
          "data": {
            "text/plain": [
              "<Figure size 1152x720 with 2 Axes>"
            ],
            "image/png": "[encoded data removed]"
          },
          "metadata": {
            "needs_background": "light"
          }
        }
      ]
    },
    {
      "cell_type": "markdown",
      "source": [
        "**To see the overall conservation status of each country: **\n",
        "\n",
        "\n",
        "\n",
        "1.   I started by sorting my data by the number of Threatened Species.\n",
        "2.   Then I plotted the number of Threatened Species against the number of Least Concern Species.\n",
        "\n",
        "Looks like the countries with highest number of Threatened Species also have a high number of Least Concern/safe species, which suggests that they have a diverse fauna.\n",
        "\n",
        "That being said... Looks like Greece could apply more conservation measures.\n",
        "\n",
        "This graph also suggests that France has a better overall conservation status than most other countries. Keep it up, France!"
      ],
      "metadata": {
        "id": "izrISNHAQ-Un"
      }
    },
    {
      "cell_type": "markdown",
      "source": [],
      "metadata": {
        "id": "DEHjnWnGbasQ"
      }
    },
    {
      "cell_type": "markdown",
      "source": [
        "After considering this Dataset I have decided that it would be much easier to work with it if I created a country column, that gets the country code from the 'age,sex,indic_il, unit, geo/time'."
      ],
      "metadata": {
        "id": "XmGdff-6cXbf"
      }
    },
    {
      "cell_type": "code",
      "source": [],
      "metadata": {
        "id": "oJj_Xc_-bZUw"
      },
      "execution_count": null,
      "outputs": []
    },
    {
      "cell_type": "code",
      "source": [
        "mmi.columns\n"
      ],
      "metadata": {
        "colab": {
          "base_uri": "https://localhost:8080/"
        },
        "id": "7pCTK5KsYdG3",
        "outputId": "aabb245d-082e-49e9-db89-d7ee44f74af7"
      },
      "execution_count": null,
      "outputs": [
        {
          "output_type": "execute_result",
          "data": {
            "text/plain": [
              "Index(['age,sex,indic_il,unit,geo\\time', '2022 ', '2021 ', '2020 ', '2019 ',\n",
              "       '2018 ', '2017 ', '2016 ', '2015 ', '2014 ', '2013 ', '2012 ', '2011 ',\n",
              "       '2010 ', '2009 ', '2008 ', '2007 ', '2006 ', '2005 ', '2004 ', '2003 ',\n",
              "       '2001 ', '2000 ', '1999 ', '1998 ', '1997 ', '1996 ', '1995 '],\n",
              "      dtype='object')"
            ]
          },
          "metadata": {},
          "execution_count": 230
        }
      ]
    },
    {
      "cell_type": "code",
      "source": [
        "# Extract the country code from the 'age,sex,indic_il,unit,geo\\time' column\n",
        "mmi['country'] = mmi['age,sex,indic_il,unit,geo\\\\time'].apply(lambda x: x.split(',')[-1])\n"
      ],
      "metadata": {
        "id": "zL4w4-43Yc24"
      },
      "execution_count": null,
      "outputs": []
    },
    {
      "cell_type": "code",
      "source": [
        "# Rename the 'age,sex,indic_il,unit,geo\\time' column to 'country'\n",
        "df = df.rename(columns={'age,sex,indic_il,unit,geo\\\\time': 'country'})"
      ],
      "metadata": {
        "id": "Q54qaY7Pa7jn"
      },
      "execution_count": null,
      "outputs": []
    },
    {
      "cell_type": "code",
      "source": [
        "mmi.head()"
      ],
      "metadata": {
        "colab": {
          "base_uri": "https://localhost:8080/",
          "height": 236
        },
        "id": "6FsXZKJhbEjP",
        "outputId": "7603aec7-2cb5-42ef-d300-0f54a6df5ac8"
      },
      "execution_count": null,
      "outputs": [
        {
          "output_type": "execute_result",
          "data": {
            "text/plain": [
              "  age,sex,indic_il,unit,geo\\time   2022    2021    2020     2019    2018   \\\n",
              "0           TOTAL,F,MED_E,EUR,AL      :       :    2482     2195    1972    \n",
              "1           TOTAL,F,MED_E,EUR,AT      :   27048   26348    25241   24675    \n",
              "2           TOTAL,F,MED_E,EUR,BE  26826   25356   25135   24013 b  23135    \n",
              "3           TOTAL,F,MED_E,EUR,BG   5117    5012    4424     4059    3474    \n",
              "4           TOTAL,F,MED_E,EUR,CH      :   43909   41911    40146   42253    \n",
              "\n",
              "    2017    2016    2015     2014   ...   2004     2003    2001    2000   \\\n",
              "0   1747       :       :        :   ...      :        :       :       :    \n",
              "1  24433   23202   22741    22712   ...  16603   15275 b  14667   14535    \n",
              "2  21976   21550   21012    21189   ...  15353   14994 b  15081   14378    \n",
              "3   3480   3043 b   3236     3260   ...      :        :       :       :    \n",
              "4  42640   43091   38361   37278 b  ...      :        :       :       :    \n",
              "\n",
              "    1999    1998    1997    1996    1995  country  \n",
              "0      :       :       :       :       :       AL  \n",
              "1  13888   13677   13841   14277   13394       AT  \n",
              "2  13885   13669   13707   13735   13085       BE  \n",
              "3      :       :       :       :       :       BG  \n",
              "4      :       :       :       :       :       CH  \n",
              "\n",
              "[5 rows x 29 columns]"
            ],
            "text/html": [
              "\n",
              "  <div id=\"df-ae7a7288-808f-4be5-8615-ce63a07d0db6\">\n",
              "    <div class=\"colab-df-container\">\n",
              "      <div>\n",
              "<style scoped>\n",
              "    .dataframe tbody tr th:only-of-type {\n",
              "        vertical-align: middle;\n",
              "    }\n",
              "\n",
              "    .dataframe tbody tr th {\n",
              "        vertical-align: top;\n",
              "    }\n",
              "\n",
              "    .dataframe thead th {\n",
              "        text-align: right;\n",
              "    }\n",
              "</style>\n",
              "<table border=\"1\" class=\"dataframe\">\n",
              "  <thead>\n",
              "    <tr style=\"text-align: right;\">\n",
              "      <th></th>\n",
              "      <th>age,sex,indic_il,unit,geo\\time</th>\n",
              "      <th>2022</th>\n",
              "      <th>2021</th>\n",
              "      <th>2020</th>\n",
              "      <th>2019</th>\n",
              "      <th>2018</th>\n",
              "      <th>2017</th>\n",
              "      <th>2016</th>\n",
              "      <th>2015</th>\n",
              "      <th>2014</th>\n",
              "      <th>...</th>\n",
              "      <th>2004</th>\n",
              "      <th>2003</th>\n",
              "      <th>2001</th>\n",
              "      <th>2000</th>\n",
              "      <th>1999</th>\n",
              "      <th>1998</th>\n",
              "      <th>1997</th>\n",
              "      <th>1996</th>\n",
              "      <th>1995</th>\n",
              "      <th>country</th>\n",
              "    </tr>\n",
              "  </thead>\n",
              "  <tbody>\n",
              "    <tr>\n",
              "      <th>0</th>\n",
              "      <td>TOTAL,F,MED_E,EUR,AL</td>\n",
              "      <td>:</td>\n",
              "      <td>:</td>\n",
              "      <td>2482</td>\n",
              "      <td>2195</td>\n",
              "      <td>1972</td>\n",
              "      <td>1747</td>\n",
              "      <td>:</td>\n",
              "      <td>:</td>\n",
              "      <td>:</td>\n",
              "      <td>...</td>\n",
              "      <td>:</td>\n",
              "      <td>:</td>\n",
              "      <td>:</td>\n",
              "      <td>:</td>\n",
              "      <td>:</td>\n",
              "      <td>:</td>\n",
              "      <td>:</td>\n",
              "      <td>:</td>\n",
              "      <td>:</td>\n",
              "      <td>AL</td>\n",
              "    </tr>\n",
              "    <tr>\n",
              "      <th>1</th>\n",
              "      <td>TOTAL,F,MED_E,EUR,AT</td>\n",
              "      <td>:</td>\n",
              "      <td>27048</td>\n",
              "      <td>26348</td>\n",
              "      <td>25241</td>\n",
              "      <td>24675</td>\n",
              "      <td>24433</td>\n",
              "      <td>23202</td>\n",
              "      <td>22741</td>\n",
              "      <td>22712</td>\n",
              "      <td>...</td>\n",
              "      <td>16603</td>\n",
              "      <td>15275 b</td>\n",
              "      <td>14667</td>\n",
              "      <td>14535</td>\n",
              "      <td>13888</td>\n",
              "      <td>13677</td>\n",
              "      <td>13841</td>\n",
              "      <td>14277</td>\n",
              "      <td>13394</td>\n",
              "      <td>AT</td>\n",
              "    </tr>\n",
              "    <tr>\n",
              "      <th>2</th>\n",
              "      <td>TOTAL,F,MED_E,EUR,BE</td>\n",
              "      <td>26826</td>\n",
              "      <td>25356</td>\n",
              "      <td>25135</td>\n",
              "      <td>24013 b</td>\n",
              "      <td>23135</td>\n",
              "      <td>21976</td>\n",
              "      <td>21550</td>\n",
              "      <td>21012</td>\n",
              "      <td>21189</td>\n",
              "      <td>...</td>\n",
              "      <td>15353</td>\n",
              "      <td>14994 b</td>\n",
              "      <td>15081</td>\n",
              "      <td>14378</td>\n",
              "      <td>13885</td>\n",
              "      <td>13669</td>\n",
              "      <td>13707</td>\n",
              "      <td>13735</td>\n",
              "      <td>13085</td>\n",
              "      <td>BE</td>\n",
              "    </tr>\n",
              "    <tr>\n",
              "      <th>3</th>\n",
              "      <td>TOTAL,F,MED_E,EUR,BG</td>\n",
              "      <td>5117</td>\n",
              "      <td>5012</td>\n",
              "      <td>4424</td>\n",
              "      <td>4059</td>\n",
              "      <td>3474</td>\n",
              "      <td>3480</td>\n",
              "      <td>3043 b</td>\n",
              "      <td>3236</td>\n",
              "      <td>3260</td>\n",
              "      <td>...</td>\n",
              "      <td>:</td>\n",
              "      <td>:</td>\n",
              "      <td>:</td>\n",
              "      <td>:</td>\n",
              "      <td>:</td>\n",
              "      <td>:</td>\n",
              "      <td>:</td>\n",
              "      <td>:</td>\n",
              "      <td>:</td>\n",
              "      <td>BG</td>\n",
              "    </tr>\n",
              "    <tr>\n",
              "      <th>4</th>\n",
              "      <td>TOTAL,F,MED_E,EUR,CH</td>\n",
              "      <td>:</td>\n",
              "      <td>43909</td>\n",
              "      <td>41911</td>\n",
              "      <td>40146</td>\n",
              "      <td>42253</td>\n",
              "      <td>42640</td>\n",
              "      <td>43091</td>\n",
              "      <td>38361</td>\n",
              "      <td>37278 b</td>\n",
              "      <td>...</td>\n",
              "      <td>:</td>\n",
              "      <td>:</td>\n",
              "      <td>:</td>\n",
              "      <td>:</td>\n",
              "      <td>:</td>\n",
              "      <td>:</td>\n",
              "      <td>:</td>\n",
              "      <td>:</td>\n",
              "      <td>:</td>\n",
              "      <td>CH</td>\n",
              "    </tr>\n",
              "  </tbody>\n",
              "</table>\n",
              "<p>5 rows × 29 columns</p>\n",
              "</div>\n",
              "      <button class=\"colab-df-convert\" onclick=\"convertToInteractive('df-ae7a7288-808f-4be5-8615-ce63a07d0db6')\"\n",
              "              title=\"Convert this dataframe to an interactive table.\"\n",
              "              style=\"display:none;\">\n",
              "        \n",
              "  <svg xmlns=\"http://www.w3.org/2000/svg\" height=\"24px\"viewBox=\"0 0 24 24\"\n",
              "       width=\"24px\">\n",
              "    <path d=\"M0 0h24v24H0V0z\" fill=\"none\"/>\n",
              "    <path d=\"M18.56 5.44l.94 2.06.94-2.06 2.06-.94-2.06-.94-.94-2.06-.94 2.06-2.06.94zm-11 1L8.5 8.5l.94-2.06 2.06-.94-2.06-.94L8.5 2.5l-.94 2.06-2.06.94zm10 10l.94 2.06.94-2.06 2.06-.94-2.06-.94-.94-2.06-.94 2.06-2.06.94z\"/><path d=\"M17.41 7.96l-1.37-1.37c-.4-.4-.92-.59-1.43-.59-.52 0-1.04.2-1.43.59L10.3 9.45l-7.72 7.72c-.78.78-.78 2.05 0 2.83L4 21.41c.39.39.9.59 1.41.59.51 0 1.02-.2 1.41-.59l7.78-7.78 2.81-2.81c.8-.78.8-2.07 0-2.86zM5.41 20L4 18.59l7.72-7.72 1.47 1.35L5.41 20z\"/>\n",
              "  </svg>\n",
              "      </button>\n",
              "      \n",
              "  <style>\n",
              "    .colab-df-container {\n",
              "      display:flex;\n",
              "      flex-wrap:wrap;\n",
              "      gap: 12px;\n",
              "    }\n",
              "\n",
              "    .colab-df-convert {\n",
              "      background-color: #E8F0FE;\n",
              "      border: none;\n",
              "      border-radius: 50%;\n",
              "      cursor: pointer;\n",
              "      display: none;\n",
              "      fill: #1967D2;\n",
              "      height: 32px;\n",
              "      padding: 0 0 0 0;\n",
              "      width: 32px;\n",
              "    }\n",
              "\n",
              "    .colab-df-convert:hover {\n",
              "      background-color: #E2EBFA;\n",
              "      box-shadow: 0px 1px 2px rgba(60, 64, 67, 0.3), 0px 1px 3px 1px rgba(60, 64, 67, 0.15);\n",
              "      fill: #174EA6;\n",
              "    }\n",
              "\n",
              "    [theme=dark] .colab-df-convert {\n",
              "      background-color: #3B4455;\n",
              "      fill: #D2E3FC;\n",
              "    }\n",
              "\n",
              "    [theme=dark] .colab-df-convert:hover {\n",
              "      background-color: #434B5C;\n",
              "      box-shadow: 0px 1px 3px 1px rgba(0, 0, 0, 0.15);\n",
              "      filter: drop-shadow(0px 1px 2px rgba(0, 0, 0, 0.3));\n",
              "      fill: #FFFFFF;\n",
              "    }\n",
              "  </style>\n",
              "\n",
              "      <script>\n",
              "        const buttonEl =\n",
              "          document.querySelector('#df-ae7a7288-808f-4be5-8615-ce63a07d0db6 button.colab-df-convert');\n",
              "        buttonEl.style.display =\n",
              "          google.colab.kernel.accessAllowed ? 'block' : 'none';\n",
              "\n",
              "        async function convertToInteractive(key) {\n",
              "          const element = document.querySelector('#df-ae7a7288-808f-4be5-8615-ce63a07d0db6');\n",
              "          const dataTable =\n",
              "            await google.colab.kernel.invokeFunction('convertToInteractive',\n",
              "                                                     [key], {});\n",
              "          if (!dataTable) return;\n",
              "\n",
              "          const docLinkHtml = 'Like what you see? Visit the ' +\n",
              "            '<a target=\"_blank\" href=https://colab.research.google.com/notebooks/data_table.ipynb>data table notebook</a>'\n",
              "            + ' to learn more about interactive tables.';\n",
              "          element.innerHTML = '';\n",
              "          dataTable['output_type'] = 'display_data';\n",
              "          await google.colab.output.renderOutput(dataTable, element);\n",
              "          const docLink = document.createElement('div');\n",
              "          docLink.innerHTML = docLinkHtml;\n",
              "          element.appendChild(docLink);\n",
              "        }\n",
              "      </script>\n",
              "    </div>\n",
              "  </div>\n",
              "  "
            ]
          },
          "metadata": {},
          "execution_count": 233
        }
      ]
    }
  ]
}